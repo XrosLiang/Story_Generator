{
  "nbformat": 4,
  "nbformat_minor": 0,
  "metadata": {
    "accelerator": "GPU",
    "colab": {
      "name": "Story_Generator.ipynb",
      "provenance": [],
      "collapsed_sections": []
    },
    "kernelspec": {
      "display_name": "Python 3",
      "language": "python",
      "name": "python3"
    },
    "language_info": {
      "codemirror_mode": {
        "name": "ipython",
        "version": 3
      },
      "file_extension": ".py",
      "mimetype": "text/x-python",
      "name": "python",
      "nbconvert_exporter": "python",
      "pygments_lexer": "ipython3",
      "version": "3.7.6"
    }
  },
  "cells": [
    {
      "cell_type": "markdown",
      "metadata": {
        "colab_type": "text",
        "id": "Z9RPfJljoyL8"
      },
      "source": [
        "# Story prediction\n",
        "\n",
        "#### For story generation, various short stories were taken from the web for training purposes."
      ]
    },
    {
      "cell_type": "markdown",
      "metadata": {
        "colab_type": "text",
        "id": "ZaZsKgo3oyL-"
      },
      "source": [
        "## Importing libraries"
      ]
    },
    {
      "cell_type": "code",
      "metadata": {
        "colab_type": "code",
        "id": "RPg1C0BDoyMA",
        "colab": {}
      },
      "source": [
        "from tensorflow.keras.preprocessing.sequence import pad_sequences\n",
        "from tensorflow.keras.layers import Embedding, LSTM, Dense, Dropout, Bidirectional\n",
        "from tensorflow.keras.preprocessing.text import Tokenizer\n",
        "from tensorflow.keras.models import Sequential\n",
        "from tensorflow.keras.optimizers import Adam\n",
        "from tensorflow.keras import regularizers\n",
        "import tensorflow.keras.utils as ku \n",
        "import numpy as np \n",
        "import tensorflow as tf\n",
        "import pickle"
      ],
      "execution_count": 0,
      "outputs": []
    },
    {
      "cell_type": "markdown",
      "metadata": {
        "colab_type": "text",
        "id": "2XKjFYdnoyMJ"
      },
      "source": [
        "## Analyzing dataset"
      ]
    },
    {
      "cell_type": "code",
      "metadata": {
        "colab_type": "code",
        "id": "iXbu4voMoyMK",
        "colab": {}
      },
      "source": [
        "data=open('stories.txt',encoding=\"utf8\").read()"
      ],
      "execution_count": 0,
      "outputs": []
    },
    {
      "cell_type": "code",
      "metadata": {
        "colab_type": "code",
        "id": "Px7a9Id6oyMP",
        "outputId": "c84c2080-8e56-4f0b-c750-f9becd0cc5c2",
        "colab": {
          "base_uri": "https://localhost:8080/",
          "height": 54
        }
      },
      "source": [
        "data"
      ],
      "execution_count": 3,
      "outputs": [
        {
          "output_type": "execute_result",
          "data": {
            "text/plain": [
              "'Frozen grass crunched beneath the steps of a shambling man. His shoes were crusted and worn, and dirty toes protruded from holes in the sides. His quivering eye scanned the surroundings: a freshly paved path through the grass, which led to a double swingset, and a picnic table off to the side with a group of parents lounging in bundles, huddled to keep warm. Squeaky clean-and-combed children giggled and bounced as they weaved through the pathways with their hot breaths escaping into the air like smoke.\\nOne boy clutched an ocean-blue rectangular box, which had a shooting star etched in the side. He unlatched the tin, and a plethora of snacks tumbled out. The ragged man cast his gaze upon the contents like a magnet, groping his midsection furiously. His face was ghastly, with a horrid expression that pierced the atmosphere like a spear. He stuck out like a sore thumb, and it didn’t take longer than a few moments for the loungers to catch a glimpse of this unsightly intruder.\\nThe boy shuffled through his mound of snacks like plundered treasure. He kneaded the pile flat and even, leveling the goods so that every variation could be seen. A stray piece of edamame teetered on the edge of the picnic table, and slipped through the boy’s failed attempt to snatch it mid-air. The ravenous stranger eyed the lone piece of food and ambled slowly toward it, one step at a time. A man in a camping blanket rose to his feet in haste, with an iron stare that broke to pieces under sight of the slovenly being that walked nearer to his child.\\nWith each step of the abominable thing, a gasp escaped from the bundled man at the picnic table. His frightened squeaks grew louder, but his body was as frozen as the grass. He was terrified, but he could not move a muscle to save his son. His breath became hotter, and the small white puffs from his mouth turned to steaming geisers, pulsing in rhythm with the monster’s steps. The others caught notice of the beastly man and pointed, but with arms extended, they froze in place, with the only sign of life visible by way of breath. The small boy looked directly at the approaching alien with serene composure.\\nThe grizzly demon neared the picnic table overflowing with mounds of snacks. His gaze waved, and lowered from the boy, to the table, to the grass below. The ground thumped as he fell to his knee-like nubs. The rabid creature thrust out its grubby, filthy hand-claws, and purloined the treasured edamame from the earth and began to devour it with gangly teeth until no morsel remained. In a lustful craze, the disgusting alien beast thieved another snack from the table, and began ravaging it just the same.\\nWhile the horrendous abomination of a life form was occupied, the parents of the boy dethawed, as if a magic spell had been broken, and began to act. They snatched their belongings, along with the boy and as many snacks as could be hoarded in an armful. They fled the park and the wicked diseased creature without looking back. The subhuman thing had passed out during their mad rush, after gorging itself.\\nUpon waking, the disheveled man lifted his quivering eyes, and cracked a smile that cast a shimmering light upon his grimy face. Stumbling to rise, he noticed the pale green glow of another edamame placed gently by his head.\\nA globe of light emanated from the lantern Ifanco held as he stepped carefully over the rocks. The cavern was dank and full of bats, but he encountered no hostility during his descent into the dark. For what seemed like days, he had searched blindly through the last known entrance to Great Below, a series of cavernous veins that coursed underneath Benu mountain. They were largely abandoned, but several centuries ago, stories of lost treasure and mysterious creatures captivated the interest of explorers. For some unknown reason, many of the entrances had been sealed off since that time. Ifanco caught wind of the last few that remained, but upon discovery, none of the paths led further than a couple hundred feet, until now.\\nIfanco’s heart thumped as each step brought him deeper into the cave. Supplies were low, but he wouldn’t dare turn around. There was no going back, he thought, and he kept pushing onward even as his eyesight blurred, his stomach clenched, and his muscles quivered. Ifanco wore a pendant that bounced against his chest as he walked, and the giant ruby inside glowed ominously, giving light to the surrounding passage.\\nIfanco set the lantern down briefly to catch his breath, fondling the pendant nervously while his gaze wandered off into the darkness. His mind drifted and tumbled over the rocks, deep into the wilderness of infinite crevices that surrounded him. Images of golden shining headdresses filled his mind, and the twinkling of curved armlets that cuffed thousands of dancing arms. A sea of faces swarmed around him, laughing and looking, glowing, waiting in need. A vision of a grand hall of windows and banisters, draped with intricately designed tapestries, swirled upon the rocks in the cave, and Ifanco twisted and blinked tightly to banish them from existence. His eyes hollowed out when the images receded into the blackness. His consciousness faded—waiting to be surrendered forever to the blanket of darkness—when his eyes tripped on a sliver of light that glinted between rocks in the distance. With rekindled energy, he grabbed the lantern and stepped toward the light.\\nHe put his eyes up to the crack but it was too small to see through. The light would emanate in tiny bursts, illuminating the tiny brown craters in his eyes, which pulsed and hollowed in the same pattern. He was still, like a statue, gazing at the flickering hue, entranced by its rhythm. A clump of greasy hair fell gently against his face, irritating his gaze and provoking consciousness back into his eyes. His stance broke into a quick jolt as he reached out for his leather bag and pulled out a small pickaxe.\\nThe crags gave way upon impact, but the strenuous effort took a toll on Ifanco’s weakened body. He took long breaths that widened between each swing, until finally, a hole was made just big enough to fit through. The light seemed to disappear, and Ifanco stared into the darkened spot and wondered if he was hallucinating.\\nHe crawled through the hole and stumbled out into another expanse of darkness. He pulled the lantern through the hole and the flickering light cast itself about the room. It only took a moment for Ifanco to realize that he was certainly not in a cave anymore.\\nHe stood upon complexly woven patterns carved into the floor, which had an interlocking series of stones laid down with a precision that would call upon a master of architecture. The finely detailed patterns contained large circles and shapes that looked like teardrops. Ifanco scanned the lantern over the floor and a peculiar image took shape in the light. It was of two birds inside of a giant circle, and they were flying in opposing directions; one bird was moving upward with a sun behind it, and the other facing in reverse, and donning a moon instead. As to the significance, he couldn’t decipher, but the symbol was a sign that he was close.\\nFinally, I have reached the place that I’ve so desperately been searching for.\\nIt seemed like days had passed as Ifanco sat in the hall with the patterns, pacing erratically and meticulously inspecting every facet of detail. He hadn’t eaten for a great length of time, but hunger was only a trifle to him now. It was impossible to tell time, and it very well could have been a few hours as much as a few days. Time seemed to exist without a shadow or direction in that room; it was a static bubble that could be penetrated but never moved. Ifanco’s only method of time was the hair on his face, which was far past a clean shave and became incredibly dark and curly. He would sit for hours, pondering. During that time, the very reason he was there seemed to slip from his grasp. Everything seemed to disappear in the darkness of that room. It was only when Ifanco stared into a small pool of stagnant water that he finally remembered.\\nA silhouette appeared behind his reflection; it was a spectral shape with small, grey tentacle-like appendages that waved and morphed around the edges. Ifanco stared deeply, and more details slowly emerged in the shape. The tentacles turned an ashen hue and two blue circles glowed in the center. Figures began to rise in the murky image; the glowing orbs became eyes, and then a nose and lips formed below them, and the tentacles became hair, waving loosely in the wind. A fire raged in Ifanco’s chest when he grasped it: it is Rosa, my dear, lovely Rosa. What has become of you? I can hardly remember your face…\\nIfanco’s eyes radiated with a ravenous flame that mimicked the one in his heart, and at that moment a light ignited in the center of the room. Darkness gave way to brilliant light as a glowing orb pulsated with the same rhythm of a heartbeat. The orb expanded and rays of light twisted and reflected off of the walls. A new shape was birthed from the orb, of which protruded a massive appendage from one side that spanned nearly the size of the room. It was a giant wing. Ifanco could not make out much else other than an outline of the illusive shape. His eyes were temporarily blinded by the intense light, and vision did not return until the figure had taken complete form before him.\\nIt was a massive red-and-yellow-feathered bird that burned with an invisible fire. It had no eyes on its head, but a large, hooked beak curved out from its face. Its one wing had large, shiny feathers with yellow tips on the end, and they were much too long for the room and dragged on the dusty floor. The illustrious creature cocked its head and took a gargantuan leap toward a broken column and perched upon it, plumes of dust spilling in its wake.\\nAs the bird’s form seeped into Ifanco’s vision, his questioning mind dissolved into an incredible sense of awe. The magnificent creature stood before him in all of its beauty, yet Ifanco could not help but sense an unfathomable ocean of pain and sorrow: the bird was a heavenly being forever tainted from true perfection by the horrendous jagged stump that remained of the right wing. It would always be marked by that ugly fate, and yet, it shone before him with a glorious radiance. Ifanco could barely come to his senses when the bird began to speak to him.\\nThe words rang as if in Ifanco’s mind, because the beak did not move. Despite the unbelievable figure before him, Ifanco held himself unflinchingly.\\nThe giant bird flapped its wing with a brutish intensity that crackled the air.\\nIfanco took that as a sign to be steadfast, and tightened his mental bow as far back as it could be pulled. He boldly stood up and took one step toward the bird, and the image held in his mind became an immovable stone which he clung to.\\nThe bird spread its wing and flapped once more, with a force that would surely break Ifanco’s bones into tiny fragments.\\nThe words shook Ifanco’s mind into a turbid state. He thought of the many things he once cherished in his life. He thought of the country and the countrymen, of his family, and of Rosa. After a long moment of silence, Ifanco gripped the emblem hanging from his chest and ripped it off. He stepped forward and placed it down on the ground below the column that the bird perched from.\\nThe bird shifted on the column, stretching its clawed feet and then returned to statuesque posture.\\nThe golden bird cocked its head to the side, and stretched out its right foot and dangled it as if he were pointing towards Ifanco.\\nA pang of regret seared inside Ifanco’s skin as he realized what he had just thrown away. The bird raised wing and puffed its golden chest in glorious form.\\nAs those words echoed through Ifanco’s mind, the bird draped the sun-tipped feathers around its body and disappeared with a wisp of light, and the room fell to darkness. A thought rippled in Ifanco’s mind that came not from him, but somewhere else: Just raise your right hand and the strength of will shall give life to the lifeless.\\nIfanco staggered through the moonlit meadow outside of Bennupoli with a long, narrow bundle hanging over his shoulder. He parted through the knee-high grass and stopped when he reached a large willow tree that draped over a clearing. He kneeled, laying down the bundle with the grace of a mother carrying a newborn. The unwrapped layers revealed a rotted, indiscernible lump of mass, the stench of which caused Ifanco to gag. He gently grabbed two protruding parts that looked like limbs, and crossed them over the center with his dirt-stained hands. He stood back, closed his eyes, and raised his right hand palm outward until it was level with his face.\\nAn emblem flashed on the top of his hand, revealing the black shape of a bird with one wing spread out, and the other missing.\\nIfanco fell into a somber gaze, entranced by the symbol, as he grasped the reality of where he was. His heart ceased to beat, and a thick blackness devoured his eyes. The air had become frozen, the leaves on the willow tree stopped rustling, and the meadow fell into a silent vacuum of emptiness. A faint gurgle echoed in front of him and pierced through the empty air. Ifanco witnessed the extraordinary happening and reveled in the sight of the image that was before him. It was like looking at a dried rose, stiff and poised: an image of beauty, but devoid of the moisture that made it fluid and supple. The disgusting corpse had transformed into the curved, beauteous shape of a human being. The body lied there with grace and elegance, and the arms were crossed over the chest. Rays of light fell upon the face through the leaves of the willow tree, framing the elegant features that carried exact likeness with Rosa’s. The eyes were closed, but the lids were soft and round; the nose was small and pointed, and covered in delicate freckles; strands of black hair coursed along smooth cheekbones. Ifanco engulfed himself in the sight, painting every detail of Rosa’s figure in his mind that was illuminated in the night, but his heart was curiously silent as he stood before the body.\\nBefore Ifanco could approach it, the figure hoisted itself up suddenly, like a lump, and a hideous moan bellowed from inside of it that repulsed his eyes and forced his gaze downward. The beautiful Rosa began to slither and flop, as if it didn’t know how to use its legs, and ambled itself away from Ifanco. His heart ached with a dull pain as he watched the haunting creature snake in the direction of a stray carcass of a crow lying in the grass. The crow’s wings were spread out stiff as she picked it up, and it maintained a rigid, frozen posture of flight, as if it had plummeted from the air inexplicably. Ifanco moved closer to her as she feasted on the feathered body, devouring it with an unquenchable, ravenous passion. He watched as the bird crunched and gurgled in her mouth, and her silver-eyed gaze faded and pulsed, shifting and dissolving into a glowing, pale blue hue. Ifanco stepped closer.\\nThe creature flopped over and gurgled as it curiously felt the ground around it.\\nIfanco pulled out a knife from the side of his belt, which was resting in a flap around his hip. His eyes flashed with an impassioned craze, and he ran towards the creature holding the knife with a tense grip that would crush boulders. He brought the knife within inches of the creature’s neck when it gurgled sounds that formed a complete word.\\nOnce upon a time there lived a lion in a forest. One day after a heavy meal. It was sleeping under a tree. After a while, there came a mouse and it started to play on the lion. Suddenly the lion got up with anger and looked for those who disturbed its nice sleep. Then it saw a small mouse standing trembling with fear. The lion jumped on it and started to kill it. The mouse requested the lion to forgive it. The lion felt pity and left it. The mouse ran away.\\nOn another day, the lion was caught in a net by a hunter. The mouse came there and cut the net. Thus it escaped. There after, the mouse and the lion became friends. They lived happily in the forest afterwards.\\nIt was my second day on the job. I was sitting in my seemingly gilded cubicle, overlooking Manhattan, and pinching my right arm to make sure it was real. I landed an internship at Condé Nast Traveler. Every aspiring writer I’ve ever known secretly dreamt of an Anthony Bourdain lifestyle. Travel the world and write about its most colorful pockets. \\nWhen my phone rang, and it was Mom telling me Dad had a heart attack. He didn’t make it. I felt as though the perfectly carpeted floors had dropped out from under me. Now that I’ve come out the other side, I realize Dad left me with a hefty stack of teachings. Here are three ideals I know he would’ve liked for me to embrace. \\nFirst, you have to stand on your own two feet. As much as our parents love and support us, they can’t go to our school and confess to the principal that we stole a candy bar from Sara. We have to do that. Neither can they walk into the Condé Nast office and nail a job interview for us. At some point, we have to put on our “big girl pants” and be brave, even if we’re not.  \\nAlso, there’s a difference between love and co-dependence. Being grateful to have someone to turn to for love and support is not the same as needing someone to turn to for love and support. With the loss of my father, I’ve also lost my sounding board. All I can glean from that is it’s time to look within myself and make proper assessments. If I can’t make sound decisions with the tools already in my kit, then I risk falling for anything. \\nFinally, memories are, perhaps, the only item that cannot be taken away from us. Will I miss my father? Every single day. What can I do in those times? I can open up our suitcase of memories, pick out my favorite one, and dream about it, talk about it, or write about it. Maybe I can’t pick up the phone and call him anymore, but that doesn’t mean he’s gone. \\nNext week, I’m off to Istanbul to explore their art scene. As soon as I read the email from my editor, I picked up my phone to call Dad. Then, I realized he’ll never answer my calls again. I fought back the tears, got up to make a cup of peppermint tea, and added a new note to my iPhone titled, “Istanbul Packing List.” \\nIn the end, life goes on. I’m not sure why he had to leave during the single most poignant chapter in my life. So, I won’t dwell on that. Instead, I’ll hold tightly to these three ideals and write about Karaköy in Istanbul’s Beyoğlu district. Dad will be with me every step of the way. \\nShe took me by the hand and walked me into the lobby like a five-year old child. Didn’t she know I was pushing 15? This was the third home Nancy was placing me in - in a span of eight months. I guess she felt a little sorry for me. The bright fluorescent lights threatened to burn my skin as I walked towards a bouncy-looking lady with curly hair and a sweetly-smiling man. They called themselves Allie and Alex. Cute, I thought. \\nAfter they exchanged the usual reams of paperwork, it was off in their Chevy Suburban to get situated into another new home. This time, there were no other foster children and no other biological children. Anything could happen. \\nOver the next few weeks, Allie, Alex, and I fell into quite a nice routine. She’d make pancakes for breakfast, or he’d fry up some sausage and eggs. They sang a lot, even danced as they cooked. They must have just bought the house because, most weekends, we were painting a living room butter yellow or staining a coffee table mocha brown. \\nI kept waiting for the other shoe to drop. When would they start threatening a loss of pancakes if I didn’t mow the lawn? When would the sausage and eggs be replaced with unidentifiable slosh because he didn’t feel like cooking in the morning? But, it never happened. They kept cooking, singing, and dancing like a couple of happy fools. \\nIt was a Saturday afternoon when Allie decided it was time to paint the brick fireplace white. As we crawled closer to the dirty old firepit, we pulled out the petrified wood and noticed a teeny, tiny treasure box. We looked at each other in wonder and excitement. She actually said, “I wonder if the leprechauns left it!” While judging her for being such a silly woman, I couldn’t help but laugh and lean into her a little. \\nTogether, we reached for the box and pulled it out. Inside was a shimmering solitaire ring. Folded underneath was a short piece of paper that read: \\n“My darling, my heart. Only 80 days have passed since I first held your hand. I simply cannot imagine my next 80 years without you in them. Will you take this ring, take my heart, and build a life with me? This tiny little solitaire is my offering to you. Will you be my bride?” \\nAs I stared up at Allie, she asked me a question. “Do you know what today is?” I shook my head. “It’s May 20th. That’s 80 days since Nancy passed your hand into mine and we took you home.” \\nIt turns out, love comes in all shapes and sizes, even a teeny, tiny treasure box from a wonderfully silly lady who believes in leprechauns.\\nIn ancient Greek, there was a king named Midas. He had a lot of gold and everything he needed. He also had a beautiful daughter. Midas loved his gold very much, but he loved his daughter more than his riches.\\nOne day, a satyr named Silenus got drunk and passed out in Midas’ rose garden. Believing that Satyrs always bring good luck, Midas lets Silenus rest in his palace until he is sober, against the wishes of his wife and daughter. Silenus is a friend of Dionysus, the god of wine and celebration. Upon learning Midas’ kindness towards his friend, Dionysus decides to reward the keg.\\nWhen asked to wish for something, Midas says “I wish everything I touch turns to gold”. Although Dionysus knew it was not a great idea, he granted Midas his wish.\\nHappy that his wish was granted, Midas went around touching random things in the garden and his palace and turned them all into gold. He touched an apple, and it turned into a shiny gold apple. His subjects were astonished but happy to see so much gold in the palace.\\nIn his happiness, Midas went and hugged his daughter, and before he realized, he turned her into a lifeless, golden statue! Aghast, Midas ran back to the garden and called for Dionysus. He begged the god to take away his power and save his daughter. Dionysus gives Midas a solution to change everything back to how it was before the wish. Midas learned his lesson and lived the rest of his life contended with what he had.\\nFour cows lived in a forest near a meadow. They were good friends and did everything together. They grazed together and stayed together, because of which no tigers or lions were able to kill them for food.\\nBut one day, the friends fought and each cow went to graze in a different direction. A tiger and a lion saw this and decided that it was the perfect opportunity to kill the cows. They hid in the bushes and surprised the cows and killed them all, one by one.\\nLord Krishna and Sudama were childhood friends. While Krishna thrived and prospered, Sudama didn’t. He lead the life of a poor Brahmin man, living in a small hut with his wife and kids. Most days, the kids wouldn’t even get enough to eat from what Sudama got as alms. One day, his wife suggested that he go and ask his friend Krishna for help.\\nSudama was reluctant to seek favors, but he also didn’t want his kids to suffer. So his wife borrows some rice from the neighbors to make some rice snacks that Krishna liked, and gave it to Sudama to take it to his friend. Sudama took it and set out to Dwaraka. He was amazed at the gold that was used to build the city. He reached the palace gates and was obstructed by the guards, who judged him by his torn dhoti and poor appearance.\\nSudama requested the guards to at least inform Krishna that his friend Sudama has come to meet him. The guard, although reluctant, goes and informs the lord. On hearing that Sudama was here, Krishna stops doing whatever he was doing and runs barefoot to meet his childhood friend.\\nKrishna hugs Sudama welcomes him to his abode and treats him with utmost love and respect. Sudama, ashamed of the poor man’s rice snacks he got for Krishna, tries to hide it. But the all-knowing Krishna asks Sudama for his gift and eats his favorite rice snacks that his friend brought for him.\\nKrishna and his friend spend time laughing and talking about their childhood but Sudama, overwhelmed by the kindness and compassion showed by his friend, is unable to ask Krishna for help. When he returns home, Sudama finds that his hut has been replaced by a huge mansion and his wife and kids are dressed in fine clothes.\\nSudama realized how lucky he was to have a true friend like Krishna. He didn’t even ask, but Krishna knew what Sudama wanted and gave it to him.\\nA young woman inherited a beautiful garden from her grandmother. She loved gardening too and was very proud of her garden. One day, she saw a very beautiful plant in a catalog and wanted that for her garden. She ordered it and planted it at the base of the stonewall in her backyard. She took great care of the plant, which grew quickly and had beautiful green leaves on it.\\nMonths passed, but not a single flower bloomed on the tree. Vexed, she almost wanted to cut the tree down. At such a time, her invalid called and said, “Thank you so much for the beautiful flowers. You have no idea how much I enjoy looking at the blooms of the vine you have planted”.\\nHearing this, the young girl rushes to the neighbor’s side of the wall and sees the most beautiful flower in bloom. All the care she took had paid off. Only the vine crept through the crevices because of which it did not flower on her side of the wall but did generously on the other side.\\nA dog and her pups lived on a farm, where there was a well. The mother dog told the pups, do not go near the well or play around it. One of the pups wondered why they shouldn’t go to the well and decided to explore it. He went to the well. Climbed up the wall and peeked inside.\\nIn there, he saw his reflection and thought it was another dog. The pup saw that the other dog in the well (his reflection) was doing whatever he was doing, and got angry for imitating him. He decided to fight with the dog and jumped into the well, only to find no dog there. He barked and barked and swam until the farmer came and rescued him. The pup had learned his lesson.\\nThere was once a young boy who had problem controlling his temper. When he became angry, he would just say anything that came to his mind and hurt people. So his father gave him a bag of nails and a hammer and said, “Every time you get angry, hammer one nail into the fence in our backyard”.\\nThe first few days the boy hammered so many nails that he emptied half the bag. Over the weeks, the number of nails he hammered to the fence reduced and gradually, his temper was much in control. Then came a day when he didn’t lose his temper at all. His father asked him to remove one nail each day that he manages not to lose his temper.\\nFinally, on the day the child was removing the last nail, his father says, “You have done well, boy. But do you see the holes in the wall? The fence is never going to be the same, even after repainting. Likewise, when you say mean things in anger, you will leave a scar in the person’s mind, as the nails did to the fence”.\\nA wealthy businessman was worried about his son’s bad habits. He sought counsel from a wise, old man. The old man met the man’s son and took him out for a stroll. They walked into the woods, and the old man showed the boy a small sapling and asked him to pull it out. The boy did so with ease, and they walked on.\\nThe old man then asked the boy to pull out a small plant. The boy did that too, with a little effort. As they walked, the old man asked the boy to pull out the bush, which he did. The next was a small tree, which the child had to struggle a lot to pull out. Finally, the old man showed him a bigger tree and asked the child to pull it out.\\nThe child failed to pull it out even after trying several times, in different ways. The old man looks at the boy, smiles and says, “So is the case with habits, good or bad”.\\nIn a village, lived a carefree boy with his father. The boy’s father told him that he was old enough to watch over the sheep while they graze in the fields. Every day, he had to take the sheep to the grassy fields and watch them as they graze. However, the boy was unhappy and didn’t want to take the sheep to the fields. He wanted to run and play, not watch the boring sheep graze in the field. So, he decided to have some fun. He cried, “Wolf! Wolf!” until the entire village came running with stones to chase away the wolf before it could eat any of the sheep. When the villagers saw that there was no wolf, they left muttering under their breath about how the boy had wasted their time. The next day, the boy cried once more, “Wolf! Wolf!” and, again, the villagers rushed there to chase the wolf away.\\nThe boy laughed at the fright he had caused. This time, the villagers left angrily. The third day, as the boy went up the small hill, he suddenly saw a wolf attacking his sheep. He cried as hard as he could, “Wolf! Wolf! Wolf!”, but not a single villager came to help him. The villagers thought that he was trying to fool them again and did not come to rescue him or his sheep. The little boy lost many sheep that day, all because of his foolishness.\\nOne day, a selfish fox invited a stork for dinner. Stork was very happy with the invitation – she reached the fox’s home on time and knocked at the door with her long beak. The fox took her to the dinner table and served some soup in shallow bowls for both of them. As the bowl was too shallow for the stork, she couldn’t have soup at all. But, the fox licked up his soup quickly.\\nThe stork was angry and upset, but she didn’t show her anger and behaved politely. To teach a lesson to the fox, she then invited him for dinner the next day. She too served soup, but this time the soup was served in two tall narrow vases. The stork devoured the soup from her vase, but the fox couldn’t drink any of it because of his narrow neck. The fox realised his mistake and went home famished.\\nOnce upon a time, there was a beautiful rose plant in a garden. One rose flower on the plant was proud of its beauty. However, it was disappointed that it was growing next to an ugly cactus. Every day, the rose would insult the cactus about its looks, but the cactus stayed quiet. All the other plants in the garden tried to stop the rose from bullying the cactus, but the rose was too swayed by its own beauty to listen to anyone.\\nOne summer, a well in the garden dried up and there was no water for the plants. The rose slowly began to wilt. The rose saw a sparrow dip its beak into the cactus for some water. The rose then felt ashamed for having made fun of the cactus all this time. But because it was in need of water, it went to ask the cactus if it could have some water. The kind cactus agreed, and they both got through summer as friends.\\nNasir, a small boy, found a crystal ball behind the banyan tree of his garden. The tree told him that it would grant him a wish. He was very happy and he thought hard, but unfortunately, he could not come up with anything he wanted. So, he kept the crystal ball in his bag and waited until he could decide on his wish.\\nDays went by without him making a wish but his best friend saw him looking at the crystal ball. He stole it from Nasir and showed it to everyone in the village. They all asked for palaces and riches and lots of gold, but could not make more than one wish. In the end, everyone was angry because no one could have everything they wanted. They became very unhappy and decided to ask Nasir for help. Nasir wished that everything would go back to how it was once – before the villagers had tried to satisfy their greed. The palaces and gold vanished and the villagers once again became happy and content.\\nOnce upon a time, three neighbours living in a village were having trouble with their crops. Each of the neighbours had one field, but the crops on their fields were infested with pests and were wilting. Every day, they would come up with different ideas to help their crops. The first one tried using a scarecrow in his field, the second used pesticides, and the third built a fence on his field, all to no avail.\\nOne day, the village head came by and called the three farmers. He gave them each a stick and asked them to break it. The farmers could break them easily. He then gave them a bundle of three sticks, and again, asked them to break it. This time, the farmers struggled to break the sticks. The village head said, “Together, you are stronger and work better than you do it alone.” The farmers understood what the village head was saying. They pooled in their resources and got rid of the pests from their fields.\\nOn a hot scorching day of summer, an ant was walking around in search of water. After walking around for some time, she saw a river and was delighted to see it. She climbed up on a small rock to drink the water, but she slipped and fell into the river. She was drowning but a dove who was sitting on a nearby tree helped her. Seeing the ant in trouble, the dove quickly dropped a leaf into the water. The ant moved towards the leaf and climbed up on it. The dove then carefully pulled the leaf out and placed it on the land. This way, the ant’s life was saved and she was forever indebted to the dove.\\nThe ant and the dove became the best of friends and days passed happily. However, one day, a hunter arrived at the forest. He saw the beautiful dove sitting on the tree and aimed his gun at the dove. The ant, who was saved the dove saw this and bit on the heel of the hunter. He shouted from the pain and dropped the gun. The dove was alarmed by the voice of the hunter and realised what could have happened with him. He flew away!\\nOnce upon a time, there lived a mouse and a frog, who were the best of friends. Every morning, the frog would hop out of the pond to visit the mouse, who lived inside the hole of the tree. He would spend time with the mouse and go back home. One day, the frog realised that he was making too much of an effort to visit the mouse while the mouse never came to meet him at the pond. This made him angry, and he decided to make things right by forcefully taking him to his house.\\nWhen the mouse wasn’t looking, the frog tied a string to the mouse’s tail and tied the other end to his own leg, and hopped away. The mouse started getting dragged with him. Then, the frog jumped into the pond to swim. However, when he looked back, he saw that the mouse had started to drown and was struggling to breathe! The frog quickly untied the string from his tail and took him to the shore. Seeing the mouse with his eyes barely open made the frog very sad, and he immediately regretted pulling him into the pond.\\nThere was once a woodcutter, working hard in the forest, getting wood to sell for some food. As he was cutting a tree, his axe accidentally fell into the river. The river was deep and was flowing really fast – he lost his axe and could not find it again. He sat at the bank of the river and wept.\\nWhile he wept, the God of the river arose and asked him what happened. The woodcutter told him the story. The God of the river offered to help him by looking for his axe. He disappeared into the river and retrieved a golden axe, but the woodcutter said it was not his. He disappeared again and came back with a silver axe, but the woodcutter said that was not his either. The God disappeared into the water again and came back with an iron axe – the woodcutter smiled and said it was his. The God was impressed with the woodcutter’s honesty and gifted him both the golden and silver axes.\\nA man stood upon a railroad bridge in northern Alabama, looking down into the swift water twenty feet below. The man\\'s hands were behind his back, the wrists bound with a cord. A rope closely encircled his neck. It was attached to a stout cross-timber above his head and the slack fell to the level of his knees. Some loose boards laid upon the sleepers supporting the metals of the railway supplied a footing for him and his executioners--two private soldiers of the Federal army, directed by a sergeant who in civil life may have been a deputy sheriff. At a short remove upon the same temporary platform was an officer in the uniform of his rank, armed. He was a captain. A sentinel at each end of the bridge stood with his rifle in the position known as \"support,\" that is to say, vertical in front of the left shoulder, the hammer resting on the forearm thrown straight across the chest--a formal and unnatural position, enforcing an erect carriage of the body. It did not appear to be the duty of these two men to know what was occurring at the center of the bridge; they merely blockaded the two ends of the foot planking that traversed it. Beyond one of the sentinels nobody was in sight; the railroad ran straight away into a forest for a hundred yards, then, curving, was lost to view. Doubtless there was an outpost farther along. The other bank of the stream was open ground--a gentle acclivity topped with a stockade of vertical tree trunks, loopholed for rifles, with a single embrasure through which protruded the muzzle of a brass cannon commanding the bridge. Midway of the slope between the bridge and fort were the spectators--a single company of infantry in line, at \"parade rest,\" the butts of the rifles on the ground, the barrels inclining slightly backward against the right shoulder, the hands crossed upon the stock. A lieutenant stood at the right of the line, the point of his sword upon the ground, his left hand resting upon his right. Excepting the group of four at the center of the bridge, not a man moved. The company faced the bridge, staring stonily, motionless. The sentinels, facing the banks of the stream, might have been statues to adorn the bridge. The captain stood with folded arms, silent, observing the work of his subordinates, but making no sign. Death is a dignitary who when he comes announced is to be received with formal manifestations of respect, even by those most familiar with him. In the code of military etiquette silence and fixity are forms of deference.\\nThe man who was engaged in being hanged was apparently about thirty-five years of age. He was a civilian, if one might judge from his habit, which was that of a planter. His features were good--a straight nose, firm mouth, broad forehead, from which his long, dark hair was combed straight back, falling behind his ears to the collar of his well-fitting frock coat. He wore a mustache and pointed beard, but no whiskers; his eyes were large and dark gray, and had a kindly expression which one would hardly have expected in one whose neck was in the hemp. Evidently this was no vulgar assassin. The liberal military code makes provision for hanging many kinds of persons, and gentlemen are not excluded.\\nThe preparations being complete, the two private soldiers stepped aside and each drew away the plank upon which he had been standing. The sergeant turned to the captain, saluted and placed himself immediately behind that officer, who in turn moved apart one pace. These movements left the condemned man and the sergeant standing on the two ends of the same plank, which spanned three of the cross-ties of the bridge. The end upon which the civilian stood almost, but not quite, reached a fourth. This plank had been held in place by the weight of the captain; it was now held by that of the sergeant. At a signal from the former the latter would step aside, the plank would tilt and the condemned man go down between two ties. The arrangement commended itself to his judgment as simple and effective. His face had not been covered nor his eyes bandaged. He looked a moment at his \"unsteadfast footing,\" then let his gaze wander to the swirling water of the stream racing madly beneath his feet. A piece of dancing driftwood caught his attention and his eyes followed it down the current. How slowly it appeared to move, What a sluggish stream!\\nHe closed his eyes in order to fix his last thoughts upon his wife and children. The water, touched to gold by the early sun, the brooding mists under the banks at some distance down the stream, the fort, the soldiers, the piece of drift--all had distracted him. And now he became conscious of a new disturbance. Striking through the thought of his dear ones was a sound which he could neither ignore nor understand, a sharp, distinct, metallic percussion like the stroke of a blacksmith\\'s hammer upon the anvil; it had the same ringing quality. He wondered what it was, and whether immeasurably distant or near by--it seemed both. Its recurrence was regular, but as slow as the tolling of a death knell. He awaited each stroke with impatience and--he knew not why--apprehension. The intervals of silence grew progressively longer, the delays became maddening. With their greater infrequency the sounds increased in strength and sharpness. They hurt his ear like the thrust of a knife; he feared he would shriek. What he heard was the ticking of his watch.\\nHe unclosed his eyes and saw again the water below him.\\nAs these thoughts, which have here to be set down in words, were flashed into the doomed man\\'s brain rather than evolved from it the captain nodded to the sergeant. The sergeant stepped aside.\\nA mouse and a frog were friends. Every morning the frog would hop out of his pond and go to visit his friend who lived in a hole in the side of a tree. He would return home at noon.\\nThe mouse delighted in his friend’s company unaware that the friend was slowly turning into an enemy. The reason? The frog felt slighted because though he visited the mouse everyday, the mouse on his part, had never made an attempt to visit him.\\nOne day he felt he had been humiliated enough. When it was time for him to take leave of the mouse, he tied one end of a string around his own leg, tied the other end to the mouse’s tail, and hopped away, dragging the hapless mouse behind him.\\nThe frog dived deep into the pond. The mouse tried to free himself but couldn’t, and soon drowned. His bloated body floated to the top.\\nA hawk saw the mouse floating on the pond’s surface. He swooped down, and grabbing the mouse in his talons, flew to the branch of a nearby tree. The frog, of course, was hauled out of the water too. He desperately tried to free himself, but couldn’t and the hawk soon put an end to his struggles.\\nThere once was a speedy Hare who bragged about how fast he could run. Tired of hearing him boast, the Tortoise challenged him to a race. All the animals in the forest gathered to watch.\\nThe Hare ran down the road for a while and then paused to rest. He looked back at the tortoise and cried out, \"How do you expect to win this race when you are walking along at your slow, slow pace?\"\\nThe Hare stretched himself out alongside the road and fell asleep, thinking, \"There is plenty of time to relax.\"\\nThe Tortoise walked and walked, never ever stopping until he came to the finish line.\\nThe animals who were watching cheered so loudly for Tortoise that they woke up the Hare. The Hare stretched, yawned and began to run again, but it was too late. Tortoise had already crossed the finish line.\\nWell, after emerging the loser in the second race, the tortoise thought long and hard. He knew that in any traditional terrain, the hare would win, if he was fast and consistent. Therefore, he thought of a non-traditional terrain for the race. Then he invited the rabbit for another race. This time the rabbit laughed out loud, thinking that the tortoise was out of his head. But the tortoise insisted that there should be another race and the terrain would be decided by the tortoise. The rabbit agreed to the idea.\\nThe race began. The rabbit was leading in front, with the tortoise far back trundling along. Around half way through the race, they came across a river. The rabbit halted on the bank of the river, wondering how to cross the river. Meanwhile, the tortoise approached the river slowly, got in to the water, swam across, climbed up on the other bank, ran the last few kilometers, and won the race.\\nIt is a beautiful summer day. The sun shines warmly on an old house near a river. Behind the house a mother duck is sitting on ten eggs. \"Tchick.\" One by one all the eggs break open.\\nAll except one. This one is the biggest egg of all.\\nMother duck sits and sits on the big egg. At last it breaks open, \"Tchick, tchick!\"\\nOut jumps the last baby duck. It looks big and strong. It is grey and ugly.\\nThe next day mother duck takes all her little ducks to the river. She jumps into it. All her baby ducks jump in. The big ugly duckling jumps in too.\\nThey all swim and play together. The ugly duckling swims better than all the other ducklings.\\n- Quack, quack! Come with me to the farm yard! - says mother duck to her baby ducks and they all follow her there.\\nThe farm yard is very noisy. The poor duckling is so unhappy there. The hens peck him, the rooster flies at him, the ducks bite him, the farmer kicks him.\\nAt last one day he runs away. He comes to a river. He sees many beautiful big birds swimming there. Their feathers are so white, their necks so long, their wings so pretty. The little duckling looks and looks at them. He wants to be with them. He wants to stay and watch them. He knows they are swans. Oh, how he wants to be beautiful like them.\\nNow it is winter. Everything is white with snow. The river is covered with ice. The ugly duckling is very cold and unhappy.\\nSpring comes once again. The sun shines warmly. Everything is fresh and green.\\nOne morning the ugly duckling sees the beautiful swans again. He knows them. He wants so much to swim with them in the river. But he is afraid of them. He wants to die. So he runs into the river. He looks into the water. There in the water he sees a beautiful swan. It is he! He is no more an ugly duckling. He is a beautiful white swan.\\nOnce upon a time there was a prince who wanted to marry a princess; but she would have to be a real princess. He travelled all over the world to find one, but nowhere could he get what he wanted. There were princesses enough, but it was difficult to find out whether they were real ones. There was always something about them that was not as it should be. So he came home again and was sad, for he would have liked very much to have a real princess.\\nOne evening a terrible storm came on; there was thunder and lightning, and the rain poured down in torrents. Suddenly a knocking was heard at the city gate, and the old king went to open it.\\nIt was a princess standing out there in front of the gate. But, good gracious! what a sight the rain and the wind had made her look. The water ran down from her hair and clothes; it ran down into the toes of her shoes and out again at the heels. And yet she said that she was a real princess.\\nWell, we\\'ll soon find that out, thought the old queen. But she said nothing, went into the bed-room, took all the bedding off the bedstead, and laid a pea on the bottom; then she took twenty mattresses and laid them on the pea, and then twenty eider-down beds on top of the mattresses.\\nOn this the princess had to lie all night. In the morning she was asked how she had slept.\\n\"Oh, very badly!\" said she. \"I have scarcely closed my eyes all night. Heaven only knows what was in the bed, but I was lying on something hard, so that I am black and blue all over my body. It\\'s horrible!\"\\nNow they knew that she was a real princess because she had felt the pea right through the twenty mattresses and the twenty eider-down beds.\\nNobody but a real princess could be as sensitive as that.\\nSo the prince took her for his wife, for now he knew that he had a real princess; and the pea was put in the museum, where it may still be seen, if no one has stolen it.\\nThere, that is a true story.\\nOnce upon a time, there lived a princess with fair skin and blue eyes named Snow White. Her mother died when she was a baby and her father married again. Snow White\\'s stepmother wanted to be the most beautiful lady in the kingdom. She would ask, \"Mirror, mirror, on the wall. Who is the fairest of them all?\" When the mirror replied with \"Snow White,\" the wicked Queen got angry and wanted Snow White dead.\\nThe stepmother sent a huntsman to kill Snow White and demanded that he returned with her heart. Instead, the huntsman let Snow White go and took the heart of a dear. Snow White wandered the forest until she found a cottage in the woods and fell asleep on a small bed. When Happy, Grumpy, Dopey, Sneezy, Doc, Sleepy and Bashful came home to see Snow White, they decided that she could stay. They all fell in love with her and cared for her. When they left for work, they told her to never open the door for strangers.\\nThe wicked stepmother found out that Snow White was alive and where she lived and created a poison apple. She disguised herself as an old peasant woman and when Snow White saw the shiny red apple, she opened the door. Right after she took her first bite, she fell into a deep sleep. \\nWhen the seven dwarfs came home to find Snow White lying on the floor, they cried and built her a glass coffin and kept her in front of the cabin. One day, Prince Charming was going past the cottage and saw Snow White laying in the coffin. He couldn\\'t believe how beautiful she was and wanted to kiss her. When he did, she opened her eyes and was awake again. Prince Charming married Snow White and took her to his palace where they lived happily ever after.\\nThe story begins with Cinderella being a young girl, daughter of a widower who decided that she needed a mother. He married a woman who tricked him into thinking she was a good widow who needed a home, when she actually was a cruel woman.\\nAfter Cinderella\\'s father passed away, the stepmother took over with her two daughters by her side. The stepsisters were mean to Cinderella and made her do their bidding. Cinderella was made to sleep in the attic and do all of the chores. She did not have time for herself but only to dream at night.\\nOne day, the king declared there would be a ball and every eligible maiden was to attend to be a prospective wife for the prince.\\nThe stepsisters and stepmother kept Cinderella so busy with chores that she had no time to prepare herself for the ball. They left for the ball leaving Cinderella with a long list of chores to do. Cinderella was so upset that she could not go to the ball that she cried on a bench in the garden.\\nHer fairy godmother appeared providing Cinderella with a pumpkin coach, mice for horses to draw the coach, a horse as a driver, and a dog for a footman. Cinderella\\'s rags are magically turned into a beautiful gown.The fairy godmother warns Cinderella that the spell will break at midnight.\\nCinderella goes to the ball and dances with the prince. They fall in love with each other. Cinderella does not realize he is the prince. She runs away at the first chime of midnight. She loses her glass slipper outside the castle which is picked up by the prince who vows to find the maiden who fits the slipper. She will become his wife.\\nThe slipper comes to Cinderella\\'s home and the stepsisters try to get the slipper on to no avail. The stepmother has locked Cinderella in the attic to avoid her trying on the slipper because she saw that Cinderella was the maiden at the ball.\\nCinderella\\'s animal friends come to her rescue and release her from the attic where she goes down stairs only to walk in as the glass slipper is smashing onto the floor. She produces the other slipper from the folds of her skirt and tries it on to show that she was the maiden at the ball.\\nThe wedding commences afterwards leaving Cinderella and the prince to live happily ever after.'"
            ]
          },
          "metadata": {
            "tags": []
          },
          "execution_count": 3
        }
      ]
    },
    {
      "cell_type": "markdown",
      "metadata": {
        "colab_type": "text",
        "id": "bwh9igDBoyMe"
      },
      "source": [
        "## NLP"
      ]
    },
    {
      "cell_type": "code",
      "metadata": {
        "colab_type": "code",
        "id": "s81AX9RUoyMf",
        "colab": {}
      },
      "source": [
        "# Converting the text to lowercase and splitting it\n",
        "corpus = data.lower().split(\"\\n\")"
      ],
      "execution_count": 0,
      "outputs": []
    },
    {
      "cell_type": "code",
      "metadata": {
        "colab_type": "code",
        "id": "Kcw1Obj1oyMi",
        "outputId": "2c90cbc9-e780-4062-97e1-f66c36a036e4",
        "colab": {
          "base_uri": "https://localhost:8080/",
          "height": 1000
        }
      },
      "source": [
        "corpus"
      ],
      "execution_count": 5,
      "outputs": [
        {
          "output_type": "execute_result",
          "data": {
            "text/plain": [
              "['frozen grass crunched beneath the steps of a shambling man. his shoes were crusted and worn, and dirty toes protruded from holes in the sides. his quivering eye scanned the surroundings: a freshly paved path through the grass, which led to a double swingset, and a picnic table off to the side with a group of parents lounging in bundles, huddled to keep warm. squeaky clean-and-combed children giggled and bounced as they weaved through the pathways with their hot breaths escaping into the air like smoke.',\n",
              " 'one boy clutched an ocean-blue rectangular box, which had a shooting star etched in the side. he unlatched the tin, and a plethora of snacks tumbled out. the ragged man cast his gaze upon the contents like a magnet, groping his midsection furiously. his face was ghastly, with a horrid expression that pierced the atmosphere like a spear. he stuck out like a sore thumb, and it didn’t take longer than a few moments for the loungers to catch a glimpse of this unsightly intruder.',\n",
              " 'the boy shuffled through his mound of snacks like plundered treasure. he kneaded the pile flat and even, leveling the goods so that every variation could be seen. a stray piece of edamame teetered on the edge of the picnic table, and slipped through the boy’s failed attempt to snatch it mid-air. the ravenous stranger eyed the lone piece of food and ambled slowly toward it, one step at a time. a man in a camping blanket rose to his feet in haste, with an iron stare that broke to pieces under sight of the slovenly being that walked nearer to his child.',\n",
              " 'with each step of the abominable thing, a gasp escaped from the bundled man at the picnic table. his frightened squeaks grew louder, but his body was as frozen as the grass. he was terrified, but he could not move a muscle to save his son. his breath became hotter, and the small white puffs from his mouth turned to steaming geisers, pulsing in rhythm with the monster’s steps. the others caught notice of the beastly man and pointed, but with arms extended, they froze in place, with the only sign of life visible by way of breath. the small boy looked directly at the approaching alien with serene composure.',\n",
              " 'the grizzly demon neared the picnic table overflowing with mounds of snacks. his gaze waved, and lowered from the boy, to the table, to the grass below. the ground thumped as he fell to his knee-like nubs. the rabid creature thrust out its grubby, filthy hand-claws, and purloined the treasured edamame from the earth and began to devour it with gangly teeth until no morsel remained. in a lustful craze, the disgusting alien beast thieved another snack from the table, and began ravaging it just the same.',\n",
              " 'while the horrendous abomination of a life form was occupied, the parents of the boy dethawed, as if a magic spell had been broken, and began to act. they snatched their belongings, along with the boy and as many snacks as could be hoarded in an armful. they fled the park and the wicked diseased creature without looking back. the subhuman thing had passed out during their mad rush, after gorging itself.',\n",
              " 'upon waking, the disheveled man lifted his quivering eyes, and cracked a smile that cast a shimmering light upon his grimy face. stumbling to rise, he noticed the pale green glow of another edamame placed gently by his head.',\n",
              " 'a globe of light emanated from the lantern ifanco held as he stepped carefully over the rocks. the cavern was dank and full of bats, but he encountered no hostility during his descent into the dark. for what seemed like days, he had searched blindly through the last known entrance to great below, a series of cavernous veins that coursed underneath benu mountain. they were largely abandoned, but several centuries ago, stories of lost treasure and mysterious creatures captivated the interest of explorers. for some unknown reason, many of the entrances had been sealed off since that time. ifanco caught wind of the last few that remained, but upon discovery, none of the paths led further than a couple hundred feet, until now.',\n",
              " 'ifanco’s heart thumped as each step brought him deeper into the cave. supplies were low, but he wouldn’t dare turn around. there was no going back, he thought, and he kept pushing onward even as his eyesight blurred, his stomach clenched, and his muscles quivered. ifanco wore a pendant that bounced against his chest as he walked, and the giant ruby inside glowed ominously, giving light to the surrounding passage.',\n",
              " 'ifanco set the lantern down briefly to catch his breath, fondling the pendant nervously while his gaze wandered off into the darkness. his mind drifted and tumbled over the rocks, deep into the wilderness of infinite crevices that surrounded him. images of golden shining headdresses filled his mind, and the twinkling of curved armlets that cuffed thousands of dancing arms. a sea of faces swarmed around him, laughing and looking, glowing, waiting in need. a vision of a grand hall of windows and banisters, draped with intricately designed tapestries, swirled upon the rocks in the cave, and ifanco twisted and blinked tightly to banish them from existence. his eyes hollowed out when the images receded into the blackness. his consciousness faded—waiting to be surrendered forever to the blanket of darkness—when his eyes tripped on a sliver of light that glinted between rocks in the distance. with rekindled energy, he grabbed the lantern and stepped toward the light.',\n",
              " 'he put his eyes up to the crack but it was too small to see through. the light would emanate in tiny bursts, illuminating the tiny brown craters in his eyes, which pulsed and hollowed in the same pattern. he was still, like a statue, gazing at the flickering hue, entranced by its rhythm. a clump of greasy hair fell gently against his face, irritating his gaze and provoking consciousness back into his eyes. his stance broke into a quick jolt as he reached out for his leather bag and pulled out a small pickaxe.',\n",
              " 'the crags gave way upon impact, but the strenuous effort took a toll on ifanco’s weakened body. he took long breaths that widened between each swing, until finally, a hole was made just big enough to fit through. the light seemed to disappear, and ifanco stared into the darkened spot and wondered if he was hallucinating.',\n",
              " 'he crawled through the hole and stumbled out into another expanse of darkness. he pulled the lantern through the hole and the flickering light cast itself about the room. it only took a moment for ifanco to realize that he was certainly not in a cave anymore.',\n",
              " 'he stood upon complexly woven patterns carved into the floor, which had an interlocking series of stones laid down with a precision that would call upon a master of architecture. the finely detailed patterns contained large circles and shapes that looked like teardrops. ifanco scanned the lantern over the floor and a peculiar image took shape in the light. it was of two birds inside of a giant circle, and they were flying in opposing directions; one bird was moving upward with a sun behind it, and the other facing in reverse, and donning a moon instead. as to the significance, he couldn’t decipher, but the symbol was a sign that he was close.',\n",
              " 'finally, i have reached the place that i’ve so desperately been searching for.',\n",
              " 'it seemed like days had passed as ifanco sat in the hall with the patterns, pacing erratically and meticulously inspecting every facet of detail. he hadn’t eaten for a great length of time, but hunger was only a trifle to him now. it was impossible to tell time, and it very well could have been a few hours as much as a few days. time seemed to exist without a shadow or direction in that room; it was a static bubble that could be penetrated but never moved. ifanco’s only method of time was the hair on his face, which was far past a clean shave and became incredibly dark and curly. he would sit for hours, pondering. during that time, the very reason he was there seemed to slip from his grasp. everything seemed to disappear in the darkness of that room. it was only when ifanco stared into a small pool of stagnant water that he finally remembered.',\n",
              " 'a silhouette appeared behind his reflection; it was a spectral shape with small, grey tentacle-like appendages that waved and morphed around the edges. ifanco stared deeply, and more details slowly emerged in the shape. the tentacles turned an ashen hue and two blue circles glowed in the center. figures began to rise in the murky image; the glowing orbs became eyes, and then a nose and lips formed below them, and the tentacles became hair, waving loosely in the wind. a fire raged in ifanco’s chest when he grasped it: it is rosa, my dear, lovely rosa. what has become of you? i can hardly remember your face…',\n",
              " 'ifanco’s eyes radiated with a ravenous flame that mimicked the one in his heart, and at that moment a light ignited in the center of the room. darkness gave way to brilliant light as a glowing orb pulsated with the same rhythm of a heartbeat. the orb expanded and rays of light twisted and reflected off of the walls. a new shape was birthed from the orb, of which protruded a massive appendage from one side that spanned nearly the size of the room. it was a giant wing. ifanco could not make out much else other than an outline of the illusive shape. his eyes were temporarily blinded by the intense light, and vision did not return until the figure had taken complete form before him.',\n",
              " 'it was a massive red-and-yellow-feathered bird that burned with an invisible fire. it had no eyes on its head, but a large, hooked beak curved out from its face. its one wing had large, shiny feathers with yellow tips on the end, and they were much too long for the room and dragged on the dusty floor. the illustrious creature cocked its head and took a gargantuan leap toward a broken column and perched upon it, plumes of dust spilling in its wake.',\n",
              " 'as the bird’s form seeped into ifanco’s vision, his questioning mind dissolved into an incredible sense of awe. the magnificent creature stood before him in all of its beauty, yet ifanco could not help but sense an unfathomable ocean of pain and sorrow: the bird was a heavenly being forever tainted from true perfection by the horrendous jagged stump that remained of the right wing. it would always be marked by that ugly fate, and yet, it shone before him with a glorious radiance. ifanco could barely come to his senses when the bird began to speak to him.',\n",
              " 'the words rang as if in ifanco’s mind, because the beak did not move. despite the unbelievable figure before him, ifanco held himself unflinchingly.',\n",
              " 'the giant bird flapped its wing with a brutish intensity that crackled the air.',\n",
              " 'ifanco took that as a sign to be steadfast, and tightened his mental bow as far back as it could be pulled. he boldly stood up and took one step toward the bird, and the image held in his mind became an immovable stone which he clung to.',\n",
              " 'the bird spread its wing and flapped once more, with a force that would surely break ifanco’s bones into tiny fragments.',\n",
              " 'the words shook ifanco’s mind into a turbid state. he thought of the many things he once cherished in his life. he thought of the country and the countrymen, of his family, and of rosa. after a long moment of silence, ifanco gripped the emblem hanging from his chest and ripped it off. he stepped forward and placed it down on the ground below the column that the bird perched from.',\n",
              " 'the bird shifted on the column, stretching its clawed feet and then returned to statuesque posture.',\n",
              " 'the golden bird cocked its head to the side, and stretched out its right foot and dangled it as if he were pointing towards ifanco.',\n",
              " 'a pang of regret seared inside ifanco’s skin as he realized what he had just thrown away. the bird raised wing and puffed its golden chest in glorious form.',\n",
              " 'as those words echoed through ifanco’s mind, the bird draped the sun-tipped feathers around its body and disappeared with a wisp of light, and the room fell to darkness. a thought rippled in ifanco’s mind that came not from him, but somewhere else: just raise your right hand and the strength of will shall give life to the lifeless.',\n",
              " 'ifanco staggered through the moonlit meadow outside of bennupoli with a long, narrow bundle hanging over his shoulder. he parted through the knee-high grass and stopped when he reached a large willow tree that draped over a clearing. he kneeled, laying down the bundle with the grace of a mother carrying a newborn. the unwrapped layers revealed a rotted, indiscernible lump of mass, the stench of which caused ifanco to gag. he gently grabbed two protruding parts that looked like limbs, and crossed them over the center with his dirt-stained hands. he stood back, closed his eyes, and raised his right hand palm outward until it was level with his face.',\n",
              " 'an emblem flashed on the top of his hand, revealing the black shape of a bird with one wing spread out, and the other missing.',\n",
              " 'ifanco fell into a somber gaze, entranced by the symbol, as he grasped the reality of where he was. his heart ceased to beat, and a thick blackness devoured his eyes. the air had become frozen, the leaves on the willow tree stopped rustling, and the meadow fell into a silent vacuum of emptiness. a faint gurgle echoed in front of him and pierced through the empty air. ifanco witnessed the extraordinary happening and reveled in the sight of the image that was before him. it was like looking at a dried rose, stiff and poised: an image of beauty, but devoid of the moisture that made it fluid and supple. the disgusting corpse had transformed into the curved, beauteous shape of a human being. the body lied there with grace and elegance, and the arms were crossed over the chest. rays of light fell upon the face through the leaves of the willow tree, framing the elegant features that carried exact likeness with rosa’s. the eyes were closed, but the lids were soft and round; the nose was small and pointed, and covered in delicate freckles; strands of black hair coursed along smooth cheekbones. ifanco engulfed himself in the sight, painting every detail of rosa’s figure in his mind that was illuminated in the night, but his heart was curiously silent as he stood before the body.',\n",
              " 'before ifanco could approach it, the figure hoisted itself up suddenly, like a lump, and a hideous moan bellowed from inside of it that repulsed his eyes and forced his gaze downward. the beautiful rosa began to slither and flop, as if it didn’t know how to use its legs, and ambled itself away from ifanco. his heart ached with a dull pain as he watched the haunting creature snake in the direction of a stray carcass of a crow lying in the grass. the crow’s wings were spread out stiff as she picked it up, and it maintained a rigid, frozen posture of flight, as if it had plummeted from the air inexplicably. ifanco moved closer to her as she feasted on the feathered body, devouring it with an unquenchable, ravenous passion. he watched as the bird crunched and gurgled in her mouth, and her silver-eyed gaze faded and pulsed, shifting and dissolving into a glowing, pale blue hue. ifanco stepped closer.',\n",
              " 'the creature flopped over and gurgled as it curiously felt the ground around it.',\n",
              " 'ifanco pulled out a knife from the side of his belt, which was resting in a flap around his hip. his eyes flashed with an impassioned craze, and he ran towards the creature holding the knife with a tense grip that would crush boulders. he brought the knife within inches of the creature’s neck when it gurgled sounds that formed a complete word.',\n",
              " 'once upon a time there lived a lion in a forest. one day after a heavy meal. it was sleeping under a tree. after a while, there came a mouse and it started to play on the lion. suddenly the lion got up with anger and looked for those who disturbed its nice sleep. then it saw a small mouse standing trembling with fear. the lion jumped on it and started to kill it. the mouse requested the lion to forgive it. the lion felt pity and left it. the mouse ran away.',\n",
              " 'on another day, the lion was caught in a net by a hunter. the mouse came there and cut the net. thus it escaped. there after, the mouse and the lion became friends. they lived happily in the forest afterwards.',\n",
              " 'it was my second day on the job. i was sitting in my seemingly gilded cubicle, overlooking manhattan, and pinching my right arm to make sure it was real. i landed an internship at condé nast traveler. every aspiring writer i’ve ever known secretly dreamt of an anthony bourdain lifestyle. travel the world and write about its most colorful pockets. ',\n",
              " 'when my phone rang, and it was mom telling me dad had a heart attack. he didn’t make it. i felt as though the perfectly carpeted floors had dropped out from under me. now that i’ve come out the other side, i realize dad left me with a hefty stack of teachings. here are three ideals i know he would’ve liked for me to embrace. ',\n",
              " 'first, you have to stand on your own two feet. as much as our parents love and support us, they can’t go to our school and confess to the principal that we stole a candy bar from sara. we have to do that. neither can they walk into the condé nast office and nail a job interview for us. at some point, we have to put on our “big girl pants” and be brave, even if we’re not.  ',\n",
              " 'also, there’s a difference between love and co-dependence. being grateful to have someone to turn to for love and support is not the same as needing someone to turn to for love and support. with the loss of my father, i’ve also lost my sounding board. all i can glean from that is it’s time to look within myself and make proper assessments. if i can’t make sound decisions with the tools already in my kit, then i risk falling for anything. ',\n",
              " 'finally, memories are, perhaps, the only item that cannot be taken away from us. will i miss my father? every single day. what can i do in those times? i can open up our suitcase of memories, pick out my favorite one, and dream about it, talk about it, or write about it. maybe i can’t pick up the phone and call him anymore, but that doesn’t mean he’s gone. ',\n",
              " 'next week, i’m off to istanbul to explore their art scene. as soon as i read the email from my editor, i picked up my phone to call dad. then, i realized he’ll never answer my calls again. i fought back the tears, got up to make a cup of peppermint tea, and added a new note to my iphone titled, “istanbul packing list.” ',\n",
              " 'in the end, life goes on. i’m not sure why he had to leave during the single most poignant chapter in my life. so, i won’t dwell on that. instead, i’ll hold tightly to these three ideals and write about karaköy in istanbul’s beyoğlu district. dad will be with me every step of the way. ',\n",
              " 'she took me by the hand and walked me into the lobby like a five-year old child. didn’t she know i was pushing 15? this was the third home nancy was placing me in - in a span of eight months. i guess she felt a little sorry for me. the bright fluorescent lights threatened to burn my skin as i walked towards a bouncy-looking lady with curly hair and a sweetly-smiling man. they called themselves allie and alex. cute, i thought. ',\n",
              " 'after they exchanged the usual reams of paperwork, it was off in their chevy suburban to get situated into another new home. this time, there were no other foster children and no other biological children. anything could happen. ',\n",
              " 'over the next few weeks, allie, alex, and i fell into quite a nice routine. she’d make pancakes for breakfast, or he’d fry up some sausage and eggs. they sang a lot, even danced as they cooked. they must have just bought the house because, most weekends, we were painting a living room butter yellow or staining a coffee table mocha brown. ',\n",
              " 'i kept waiting for the other shoe to drop. when would they start threatening a loss of pancakes if i didn’t mow the lawn? when would the sausage and eggs be replaced with unidentifiable slosh because he didn’t feel like cooking in the morning? but, it never happened. they kept cooking, singing, and dancing like a couple of happy fools. ',\n",
              " 'it was a saturday afternoon when allie decided it was time to paint the brick fireplace white. as we crawled closer to the dirty old firepit, we pulled out the petrified wood and noticed a teeny, tiny treasure box. we looked at each other in wonder and excitement. she actually said, “i wonder if the leprechauns left it!” while judging her for being such a silly woman, i couldn’t help but laugh and lean into her a little. ',\n",
              " 'together, we reached for the box and pulled it out. inside was a shimmering solitaire ring. folded underneath was a short piece of paper that read: ',\n",
              " '“my darling, my heart. only 80 days have passed since i first held your hand. i simply cannot imagine my next 80 years without you in them. will you take this ring, take my heart, and build a life with me? this tiny little solitaire is my offering to you. will you be my bride?” ',\n",
              " 'as i stared up at allie, she asked me a question. “do you know what today is?” i shook my head. “it’s may 20th. that’s 80 days since nancy passed your hand into mine and we took you home.” ',\n",
              " 'it turns out, love comes in all shapes and sizes, even a teeny, tiny treasure box from a wonderfully silly lady who believes in leprechauns.',\n",
              " 'in ancient greek, there was a king named midas. he had a lot of gold and everything he needed. he also had a beautiful daughter. midas loved his gold very much, but he loved his daughter more than his riches.',\n",
              " 'one day, a satyr named silenus got drunk and passed out in midas’ rose garden. believing that satyrs always bring good luck, midas lets silenus rest in his palace until he is sober, against the wishes of his wife and daughter. silenus is a friend of dionysus, the god of wine and celebration. upon learning midas’ kindness towards his friend, dionysus decides to reward the keg.',\n",
              " 'when asked to wish for something, midas says “i wish everything i touch turns to gold”. although dionysus knew it was not a great idea, he granted midas his wish.',\n",
              " 'happy that his wish was granted, midas went around touching random things in the garden and his palace and turned them all into gold. he touched an apple, and it turned into a shiny gold apple. his subjects were astonished but happy to see so much gold in the palace.',\n",
              " 'in his happiness, midas went and hugged his daughter, and before he realized, he turned her into a lifeless, golden statue! aghast, midas ran back to the garden and called for dionysus. he begged the god to take away his power and save his daughter. dionysus gives midas a solution to change everything back to how it was before the wish. midas learned his lesson and lived the rest of his life contended with what he had.',\n",
              " 'four cows lived in a forest near a meadow. they were good friends and did everything together. they grazed together and stayed together, because of which no tigers or lions were able to kill them for food.',\n",
              " 'but one day, the friends fought and each cow went to graze in a different direction. a tiger and a lion saw this and decided that it was the perfect opportunity to kill the cows. they hid in the bushes and surprised the cows and killed them all, one by one.',\n",
              " 'lord krishna and sudama were childhood friends. while krishna thrived and prospered, sudama didn’t. he lead the life of a poor brahmin man, living in a small hut with his wife and kids. most days, the kids wouldn’t even get enough to eat from what sudama got as alms. one day, his wife suggested that he go and ask his friend krishna for help.',\n",
              " 'sudama was reluctant to seek favors, but he also didn’t want his kids to suffer. so his wife borrows some rice from the neighbors to make some rice snacks that krishna liked, and gave it to sudama to take it to his friend. sudama took it and set out to dwaraka. he was amazed at the gold that was used to build the city. he reached the palace gates and was obstructed by the guards, who judged him by his torn dhoti and poor appearance.',\n",
              " 'sudama requested the guards to at least inform krishna that his friend sudama has come to meet him. the guard, although reluctant, goes and informs the lord. on hearing that sudama was here, krishna stops doing whatever he was doing and runs barefoot to meet his childhood friend.',\n",
              " 'krishna hugs sudama welcomes him to his abode and treats him with utmost love and respect. sudama, ashamed of the poor man’s rice snacks he got for krishna, tries to hide it. but the all-knowing krishna asks sudama for his gift and eats his favorite rice snacks that his friend brought for him.',\n",
              " 'krishna and his friend spend time laughing and talking about their childhood but sudama, overwhelmed by the kindness and compassion showed by his friend, is unable to ask krishna for help. when he returns home, sudama finds that his hut has been replaced by a huge mansion and his wife and kids are dressed in fine clothes.',\n",
              " 'sudama realized how lucky he was to have a true friend like krishna. he didn’t even ask, but krishna knew what sudama wanted and gave it to him.',\n",
              " 'a young woman inherited a beautiful garden from her grandmother. she loved gardening too and was very proud of her garden. one day, she saw a very beautiful plant in a catalog and wanted that for her garden. she ordered it and planted it at the base of the stonewall in her backyard. she took great care of the plant, which grew quickly and had beautiful green leaves on it.',\n",
              " 'months passed, but not a single flower bloomed on the tree. vexed, she almost wanted to cut the tree down. at such a time, her invalid called and said, “thank you so much for the beautiful flowers. you have no idea how much i enjoy looking at the blooms of the vine you have planted”.',\n",
              " 'hearing this, the young girl rushes to the neighbor’s side of the wall and sees the most beautiful flower in bloom. all the care she took had paid off. only the vine crept through the crevices because of which it did not flower on her side of the wall but did generously on the other side.',\n",
              " 'a dog and her pups lived on a farm, where there was a well. the mother dog told the pups, do not go near the well or play around it. one of the pups wondered why they shouldn’t go to the well and decided to explore it. he went to the well. climbed up the wall and peeked inside.',\n",
              " 'in there, he saw his reflection and thought it was another dog. the pup saw that the other dog in the well (his reflection) was doing whatever he was doing, and got angry for imitating him. he decided to fight with the dog and jumped into the well, only to find no dog there. he barked and barked and swam until the farmer came and rescued him. the pup had learned his lesson.',\n",
              " 'there was once a young boy who had problem controlling his temper. when he became angry, he would just say anything that came to his mind and hurt people. so his father gave him a bag of nails and a hammer and said, “every time you get angry, hammer one nail into the fence in our backyard”.',\n",
              " 'the first few days the boy hammered so many nails that he emptied half the bag. over the weeks, the number of nails he hammered to the fence reduced and gradually, his temper was much in control. then came a day when he didn’t lose his temper at all. his father asked him to remove one nail each day that he manages not to lose his temper.',\n",
              " 'finally, on the day the child was removing the last nail, his father says, “you have done well, boy. but do you see the holes in the wall? the fence is never going to be the same, even after repainting. likewise, when you say mean things in anger, you will leave a scar in the person’s mind, as the nails did to the fence”.',\n",
              " 'a wealthy businessman was worried about his son’s bad habits. he sought counsel from a wise, old man. the old man met the man’s son and took him out for a stroll. they walked into the woods, and the old man showed the boy a small sapling and asked him to pull it out. the boy did so with ease, and they walked on.',\n",
              " 'the old man then asked the boy to pull out a small plant. the boy did that too, with a little effort. as they walked, the old man asked the boy to pull out the bush, which he did. the next was a small tree, which the child had to struggle a lot to pull out. finally, the old man showed him a bigger tree and asked the child to pull it out.',\n",
              " 'the child failed to pull it out even after trying several times, in different ways. the old man looks at the boy, smiles and says, “so is the case with habits, good or bad”.',\n",
              " 'in a village, lived a carefree boy with his father. the boy’s father told him that he was old enough to watch over the sheep while they graze in the fields. every day, he had to take the sheep to the grassy fields and watch them as they graze. however, the boy was unhappy and didn’t want to take the sheep to the fields. he wanted to run and play, not watch the boring sheep graze in the field. so, he decided to have some fun. he cried, “wolf! wolf!” until the entire village came running with stones to chase away the wolf before it could eat any of the sheep. when the villagers saw that there was no wolf, they left muttering under their breath about how the boy had wasted their time. the next day, the boy cried once more, “wolf! wolf!” and, again, the villagers rushed there to chase the wolf away.',\n",
              " 'the boy laughed at the fright he had caused. this time, the villagers left angrily. the third day, as the boy went up the small hill, he suddenly saw a wolf attacking his sheep. he cried as hard as he could, “wolf! wolf! wolf!”, but not a single villager came to help him. the villagers thought that he was trying to fool them again and did not come to rescue him or his sheep. the little boy lost many sheep that day, all because of his foolishness.',\n",
              " 'one day, a selfish fox invited a stork for dinner. stork was very happy with the invitation – she reached the fox’s home on time and knocked at the door with her long beak. the fox took her to the dinner table and served some soup in shallow bowls for both of them. as the bowl was too shallow for the stork, she couldn’t have soup at all. but, the fox licked up his soup quickly.',\n",
              " 'the stork was angry and upset, but she didn’t show her anger and behaved politely. to teach a lesson to the fox, she then invited him for dinner the next day. she too served soup, but this time the soup was served in two tall narrow vases. the stork devoured the soup from her vase, but the fox couldn’t drink any of it because of his narrow neck. the fox realised his mistake and went home famished.',\n",
              " 'once upon a time, there was a beautiful rose plant in a garden. one rose flower on the plant was proud of its beauty. however, it was disappointed that it was growing next to an ugly cactus. every day, the rose would insult the cactus about its looks, but the cactus stayed quiet. all the other plants in the garden tried to stop the rose from bullying the cactus, but the rose was too swayed by its own beauty to listen to anyone.',\n",
              " 'one summer, a well in the garden dried up and there was no water for the plants. the rose slowly began to wilt. the rose saw a sparrow dip its beak into the cactus for some water. the rose then felt ashamed for having made fun of the cactus all this time. but because it was in need of water, it went to ask the cactus if it could have some water. the kind cactus agreed, and they both got through summer as friends.',\n",
              " 'nasir, a small boy, found a crystal ball behind the banyan tree of his garden. the tree told him that it would grant him a wish. he was very happy and he thought hard, but unfortunately, he could not come up with anything he wanted. so, he kept the crystal ball in his bag and waited until he could decide on his wish.',\n",
              " 'days went by without him making a wish but his best friend saw him looking at the crystal ball. he stole it from nasir and showed it to everyone in the village. they all asked for palaces and riches and lots of gold, but could not make more than one wish. in the end, everyone was angry because no one could have everything they wanted. they became very unhappy and decided to ask nasir for help. nasir wished that everything would go back to how it was once – before the villagers had tried to satisfy their greed. the palaces and gold vanished and the villagers once again became happy and content.',\n",
              " 'once upon a time, three neighbours living in a village were having trouble with their crops. each of the neighbours had one field, but the crops on their fields were infested with pests and were wilting. every day, they would come up with different ideas to help their crops. the first one tried using a scarecrow in his field, the second used pesticides, and the third built a fence on his field, all to no avail.',\n",
              " 'one day, the village head came by and called the three farmers. he gave them each a stick and asked them to break it. the farmers could break them easily. he then gave them a bundle of three sticks, and again, asked them to break it. this time, the farmers struggled to break the sticks. the village head said, “together, you are stronger and work better than you do it alone.” the farmers understood what the village head was saying. they pooled in their resources and got rid of the pests from their fields.',\n",
              " 'on a hot scorching day of summer, an ant was walking around in search of water. after walking around for some time, she saw a river and was delighted to see it. she climbed up on a small rock to drink the water, but she slipped and fell into the river. she was drowning but a dove who was sitting on a nearby tree helped her. seeing the ant in trouble, the dove quickly dropped a leaf into the water. the ant moved towards the leaf and climbed up on it. the dove then carefully pulled the leaf out and placed it on the land. this way, the ant’s life was saved and she was forever indebted to the dove.',\n",
              " 'the ant and the dove became the best of friends and days passed happily. however, one day, a hunter arrived at the forest. he saw the beautiful dove sitting on the tree and aimed his gun at the dove. the ant, who was saved the dove saw this and bit on the heel of the hunter. he shouted from the pain and dropped the gun. the dove was alarmed by the voice of the hunter and realised what could have happened with him. he flew away!',\n",
              " 'once upon a time, there lived a mouse and a frog, who were the best of friends. every morning, the frog would hop out of the pond to visit the mouse, who lived inside the hole of the tree. he would spend time with the mouse and go back home. one day, the frog realised that he was making too much of an effort to visit the mouse while the mouse never came to meet him at the pond. this made him angry, and he decided to make things right by forcefully taking him to his house.',\n",
              " 'when the mouse wasn’t looking, the frog tied a string to the mouse’s tail and tied the other end to his own leg, and hopped away. the mouse started getting dragged with him. then, the frog jumped into the pond to swim. however, when he looked back, he saw that the mouse had started to drown and was struggling to breathe! the frog quickly untied the string from his tail and took him to the shore. seeing the mouse with his eyes barely open made the frog very sad, and he immediately regretted pulling him into the pond.',\n",
              " 'there was once a woodcutter, working hard in the forest, getting wood to sell for some food. as he was cutting a tree, his axe accidentally fell into the river. the river was deep and was flowing really fast – he lost his axe and could not find it again. he sat at the bank of the river and wept.',\n",
              " 'while he wept, the god of the river arose and asked him what happened. the woodcutter told him the story. the god of the river offered to help him by looking for his axe. he disappeared into the river and retrieved a golden axe, but the woodcutter said it was not his. he disappeared again and came back with a silver axe, but the woodcutter said that was not his either. the god disappeared into the water again and came back with an iron axe – the woodcutter smiled and said it was his. the god was impressed with the woodcutter’s honesty and gifted him both the golden and silver axes.',\n",
              " 'a man stood upon a railroad bridge in northern alabama, looking down into the swift water twenty feet below. the man\\'s hands were behind his back, the wrists bound with a cord. a rope closely encircled his neck. it was attached to a stout cross-timber above his head and the slack fell to the level of his knees. some loose boards laid upon the sleepers supporting the metals of the railway supplied a footing for him and his executioners--two private soldiers of the federal army, directed by a sergeant who in civil life may have been a deputy sheriff. at a short remove upon the same temporary platform was an officer in the uniform of his rank, armed. he was a captain. a sentinel at each end of the bridge stood with his rifle in the position known as \"support,\" that is to say, vertical in front of the left shoulder, the hammer resting on the forearm thrown straight across the chest--a formal and unnatural position, enforcing an erect carriage of the body. it did not appear to be the duty of these two men to know what was occurring at the center of the bridge; they merely blockaded the two ends of the foot planking that traversed it. beyond one of the sentinels nobody was in sight; the railroad ran straight away into a forest for a hundred yards, then, curving, was lost to view. doubtless there was an outpost farther along. the other bank of the stream was open ground--a gentle acclivity topped with a stockade of vertical tree trunks, loopholed for rifles, with a single embrasure through which protruded the muzzle of a brass cannon commanding the bridge. midway of the slope between the bridge and fort were the spectators--a single company of infantry in line, at \"parade rest,\" the butts of the rifles on the ground, the barrels inclining slightly backward against the right shoulder, the hands crossed upon the stock. a lieutenant stood at the right of the line, the point of his sword upon the ground, his left hand resting upon his right. excepting the group of four at the center of the bridge, not a man moved. the company faced the bridge, staring stonily, motionless. the sentinels, facing the banks of the stream, might have been statues to adorn the bridge. the captain stood with folded arms, silent, observing the work of his subordinates, but making no sign. death is a dignitary who when he comes announced is to be received with formal manifestations of respect, even by those most familiar with him. in the code of military etiquette silence and fixity are forms of deference.',\n",
              " 'the man who was engaged in being hanged was apparently about thirty-five years of age. he was a civilian, if one might judge from his habit, which was that of a planter. his features were good--a straight nose, firm mouth, broad forehead, from which his long, dark hair was combed straight back, falling behind his ears to the collar of his well-fitting frock coat. he wore a mustache and pointed beard, but no whiskers; his eyes were large and dark gray, and had a kindly expression which one would hardly have expected in one whose neck was in the hemp. evidently this was no vulgar assassin. the liberal military code makes provision for hanging many kinds of persons, and gentlemen are not excluded.',\n",
              " 'the preparations being complete, the two private soldiers stepped aside and each drew away the plank upon which he had been standing. the sergeant turned to the captain, saluted and placed himself immediately behind that officer, who in turn moved apart one pace. these movements left the condemned man and the sergeant standing on the two ends of the same plank, which spanned three of the cross-ties of the bridge. the end upon which the civilian stood almost, but not quite, reached a fourth. this plank had been held in place by the weight of the captain; it was now held by that of the sergeant. at a signal from the former the latter would step aside, the plank would tilt and the condemned man go down between two ties. the arrangement commended itself to his judgment as simple and effective. his face had not been covered nor his eyes bandaged. he looked a moment at his \"unsteadfast footing,\" then let his gaze wander to the swirling water of the stream racing madly beneath his feet. a piece of dancing driftwood caught his attention and his eyes followed it down the current. how slowly it appeared to move, what a sluggish stream!',\n",
              " \"he closed his eyes in order to fix his last thoughts upon his wife and children. the water, touched to gold by the early sun, the brooding mists under the banks at some distance down the stream, the fort, the soldiers, the piece of drift--all had distracted him. and now he became conscious of a new disturbance. striking through the thought of his dear ones was a sound which he could neither ignore nor understand, a sharp, distinct, metallic percussion like the stroke of a blacksmith's hammer upon the anvil; it had the same ringing quality. he wondered what it was, and whether immeasurably distant or near by--it seemed both. its recurrence was regular, but as slow as the tolling of a death knell. he awaited each stroke with impatience and--he knew not why--apprehension. the intervals of silence grew progressively longer, the delays became maddening. with their greater infrequency the sounds increased in strength and sharpness. they hurt his ear like the thrust of a knife; he feared he would shriek. what he heard was the ticking of his watch.\",\n",
              " 'he unclosed his eyes and saw again the water below him.',\n",
              " \"as these thoughts, which have here to be set down in words, were flashed into the doomed man's brain rather than evolved from it the captain nodded to the sergeant. the sergeant stepped aside.\",\n",
              " 'a mouse and a frog were friends. every morning the frog would hop out of his pond and go to visit his friend who lived in a hole in the side of a tree. he would return home at noon.',\n",
              " 'the mouse delighted in his friend’s company unaware that the friend was slowly turning into an enemy. the reason? the frog felt slighted because though he visited the mouse everyday, the mouse on his part, had never made an attempt to visit him.',\n",
              " 'one day he felt he had been humiliated enough. when it was time for him to take leave of the mouse, he tied one end of a string around his own leg, tied the other end to the mouse’s tail, and hopped away, dragging the hapless mouse behind him.',\n",
              " 'the frog dived deep into the pond. the mouse tried to free himself but couldn’t, and soon drowned. his bloated body floated to the top.',\n",
              " 'a hawk saw the mouse floating on the pond’s surface. he swooped down, and grabbing the mouse in his talons, flew to the branch of a nearby tree. the frog, of course, was hauled out of the water too. he desperately tried to free himself, but couldn’t and the hawk soon put an end to his struggles.',\n",
              " 'there once was a speedy hare who bragged about how fast he could run. tired of hearing him boast, the tortoise challenged him to a race. all the animals in the forest gathered to watch.',\n",
              " 'the hare ran down the road for a while and then paused to rest. he looked back at the tortoise and cried out, \"how do you expect to win this race when you are walking along at your slow, slow pace?\"',\n",
              " 'the hare stretched himself out alongside the road and fell asleep, thinking, \"there is plenty of time to relax.\"',\n",
              " 'the tortoise walked and walked, never ever stopping until he came to the finish line.',\n",
              " 'the animals who were watching cheered so loudly for tortoise that they woke up the hare. the hare stretched, yawned and began to run again, but it was too late. tortoise had already crossed the finish line.',\n",
              " 'well, after emerging the loser in the second race, the tortoise thought long and hard. he knew that in any traditional terrain, the hare would win, if he was fast and consistent. therefore, he thought of a non-traditional terrain for the race. then he invited the rabbit for another race. this time the rabbit laughed out loud, thinking that the tortoise was out of his head. but the tortoise insisted that there should be another race and the terrain would be decided by the tortoise. the rabbit agreed to the idea.',\n",
              " 'the race began. the rabbit was leading in front, with the tortoise far back trundling along. around half way through the race, they came across a river. the rabbit halted on the bank of the river, wondering how to cross the river. meanwhile, the tortoise approached the river slowly, got in to the water, swam across, climbed up on the other bank, ran the last few kilometers, and won the race.',\n",
              " 'it is a beautiful summer day. the sun shines warmly on an old house near a river. behind the house a mother duck is sitting on ten eggs. \"tchick.\" one by one all the eggs break open.',\n",
              " 'all except one. this one is the biggest egg of all.',\n",
              " 'mother duck sits and sits on the big egg. at last it breaks open, \"tchick, tchick!\"',\n",
              " 'out jumps the last baby duck. it looks big and strong. it is grey and ugly.',\n",
              " 'the next day mother duck takes all her little ducks to the river. she jumps into it. all her baby ducks jump in. the big ugly duckling jumps in too.',\n",
              " 'they all swim and play together. the ugly duckling swims better than all the other ducklings.',\n",
              " '- quack, quack! come with me to the farm yard! - says mother duck to her baby ducks and they all follow her there.',\n",
              " 'the farm yard is very noisy. the poor duckling is so unhappy there. the hens peck him, the rooster flies at him, the ducks bite him, the farmer kicks him.',\n",
              " 'at last one day he runs away. he comes to a river. he sees many beautiful big birds swimming there. their feathers are so white, their necks so long, their wings so pretty. the little duckling looks and looks at them. he wants to be with them. he wants to stay and watch them. he knows they are swans. oh, how he wants to be beautiful like them.',\n",
              " 'now it is winter. everything is white with snow. the river is covered with ice. the ugly duckling is very cold and unhappy.',\n",
              " 'spring comes once again. the sun shines warmly. everything is fresh and green.',\n",
              " 'one morning the ugly duckling sees the beautiful swans again. he knows them. he wants so much to swim with them in the river. but he is afraid of them. he wants to die. so he runs into the river. he looks into the water. there in the water he sees a beautiful swan. it is he! he is no more an ugly duckling. he is a beautiful white swan.',\n",
              " 'once upon a time there was a prince who wanted to marry a princess; but she would have to be a real princess. he travelled all over the world to find one, but nowhere could he get what he wanted. there were princesses enough, but it was difficult to find out whether they were real ones. there was always something about them that was not as it should be. so he came home again and was sad, for he would have liked very much to have a real princess.',\n",
              " 'one evening a terrible storm came on; there was thunder and lightning, and the rain poured down in torrents. suddenly a knocking was heard at the city gate, and the old king went to open it.',\n",
              " 'it was a princess standing out there in front of the gate. but, good gracious! what a sight the rain and the wind had made her look. the water ran down from her hair and clothes; it ran down into the toes of her shoes and out again at the heels. and yet she said that she was a real princess.',\n",
              " \"well, we'll soon find that out, thought the old queen. but she said nothing, went into the bed-room, took all the bedding off the bedstead, and laid a pea on the bottom; then she took twenty mattresses and laid them on the pea, and then twenty eider-down beds on top of the mattresses.\",\n",
              " 'on this the princess had to lie all night. in the morning she was asked how she had slept.',\n",
              " '\"oh, very badly!\" said she. \"i have scarcely closed my eyes all night. heaven only knows what was in the bed, but i was lying on something hard, so that i am black and blue all over my body. it\\'s horrible!\"',\n",
              " 'now they knew that she was a real princess because she had felt the pea right through the twenty mattresses and the twenty eider-down beds.',\n",
              " 'nobody but a real princess could be as sensitive as that.',\n",
              " 'so the prince took her for his wife, for now he knew that he had a real princess; and the pea was put in the museum, where it may still be seen, if no one has stolen it.',\n",
              " 'there, that is a true story.',\n",
              " 'once upon a time, there lived a princess with fair skin and blue eyes named snow white. her mother died when she was a baby and her father married again. snow white\\'s stepmother wanted to be the most beautiful lady in the kingdom. she would ask, \"mirror, mirror, on the wall. who is the fairest of them all?\" when the mirror replied with \"snow white,\" the wicked queen got angry and wanted snow white dead.',\n",
              " 'the stepmother sent a huntsman to kill snow white and demanded that he returned with her heart. instead, the huntsman let snow white go and took the heart of a dear. snow white wandered the forest until she found a cottage in the woods and fell asleep on a small bed. when happy, grumpy, dopey, sneezy, doc, sleepy and bashful came home to see snow white, they decided that she could stay. they all fell in love with her and cared for her. when they left for work, they told her to never open the door for strangers.',\n",
              " 'the wicked stepmother found out that snow white was alive and where she lived and created a poison apple. she disguised herself as an old peasant woman and when snow white saw the shiny red apple, she opened the door. right after she took her first bite, she fell into a deep sleep. ',\n",
              " \"when the seven dwarfs came home to find snow white lying on the floor, they cried and built her a glass coffin and kept her in front of the cabin. one day, prince charming was going past the cottage and saw snow white laying in the coffin. he couldn't believe how beautiful she was and wanted to kiss her. when he did, she opened her eyes and was awake again. prince charming married snow white and took her to his palace where they lived happily ever after.\",\n",
              " 'the story begins with cinderella being a young girl, daughter of a widower who decided that she needed a mother. he married a woman who tricked him into thinking she was a good widow who needed a home, when she actually was a cruel woman.',\n",
              " \"after cinderella's father passed away, the stepmother took over with her two daughters by her side. the stepsisters were mean to cinderella and made her do their bidding. cinderella was made to sleep in the attic and do all of the chores. she did not have time for herself but only to dream at night.\",\n",
              " 'one day, the king declared there would be a ball and every eligible maiden was to attend to be a prospective wife for the prince.',\n",
              " 'the stepsisters and stepmother kept cinderella so busy with chores that she had no time to prepare herself for the ball. they left for the ball leaving cinderella with a long list of chores to do. cinderella was so upset that she could not go to the ball that she cried on a bench in the garden.',\n",
              " \"her fairy godmother appeared providing cinderella with a pumpkin coach, mice for horses to draw the coach, a horse as a driver, and a dog for a footman. cinderella's rags are magically turned into a beautiful gown.the fairy godmother warns cinderella that the spell will break at midnight.\",\n",
              " 'cinderella goes to the ball and dances with the prince. they fall in love with each other. cinderella does not realize he is the prince. she runs away at the first chime of midnight. she loses her glass slipper outside the castle which is picked up by the prince who vows to find the maiden who fits the slipper. she will become his wife.',\n",
              " \"the slipper comes to cinderella's home and the stepsisters try to get the slipper on to no avail. the stepmother has locked cinderella in the attic to avoid her trying on the slipper because she saw that cinderella was the maiden at the ball.\",\n",
              " \"cinderella's animal friends come to her rescue and release her from the attic where she goes down stairs only to walk in as the glass slipper is smashing onto the floor. she produces the other slipper from the folds of her skirt and tries it on to show that she was the maiden at the ball.\",\n",
              " 'the wedding commences afterwards leaving cinderella and the prince to live happily ever after.']"
            ]
          },
          "metadata": {
            "tags": []
          },
          "execution_count": 5
        }
      ]
    },
    {
      "cell_type": "code",
      "metadata": {
        "colab_type": "code",
        "id": "40R1-qzRoyMn",
        "outputId": "f2a66e53-e8e8-41f5-e754-48e901317775",
        "colab": {
          "base_uri": "https://localhost:8080/",
          "height": 34
        }
      },
      "source": [
        "# Tokenization\n",
        "tokenizer = Tokenizer()\n",
        "tokenizer.fit_on_texts(corpus)\n",
        "total_words = len(tokenizer.word_index) + 1\n",
        "print(total_words)"
      ],
      "execution_count": 6,
      "outputs": [
        {
          "output_type": "stream",
          "text": [
            "2302\n"
          ],
          "name": "stdout"
        }
      ]
    },
    {
      "cell_type": "code",
      "metadata": {
        "id": "Rl1ymXy1Cc-n",
        "colab_type": "code",
        "colab": {}
      },
      "source": [
        "pickle.dump(tokenizer,open('transform.pkl','wb'))"
      ],
      "execution_count": 0,
      "outputs": []
    },
    {
      "cell_type": "code",
      "metadata": {
        "colab_type": "code",
        "id": "XKF0AnQSoyMp",
        "colab": {}
      },
      "source": [
        "# create input sequences using list of tokens\n",
        "input_sequences = []\n",
        "for line in corpus:\n",
        "    token_list = tokenizer.texts_to_sequences([line])[0]\n",
        "    for i in range(1, len(token_list)):\n",
        "        n_gram_sequence = token_list[:i+1]\n",
        "        input_sequences.append(n_gram_sequence)"
      ],
      "execution_count": 0,
      "outputs": []
    },
    {
      "cell_type": "code",
      "metadata": {
        "colab_type": "code",
        "id": "TOgkGBNCoyMs",
        "colab": {
          "base_uri": "https://localhost:8080/",
          "height": 34
        },
        "outputId": "884b35cf-9ea7-450e-cc17-e1abc45ebc0b"
      },
      "source": [
        "# pad sequences \n",
        "max_sequence_len = max([len(x) for x in input_sequences])\n",
        "print(max_sequence_len)\n",
        "input_sequences = np.array(pad_sequences(input_sequences, maxlen=max_sequence_len, padding='pre'))"
      ],
      "execution_count": 8,
      "outputs": [
        {
          "output_type": "stream",
          "text": [
            "448\n"
          ],
          "name": "stdout"
        }
      ]
    },
    {
      "cell_type": "code",
      "metadata": {
        "colab_type": "code",
        "id": "N7WdS8I7oyMv",
        "colab": {}
      },
      "source": [
        "# create predictors and label\n",
        "predictors, label = input_sequences[:,:-1],input_sequences[:,-1]"
      ],
      "execution_count": 0,
      "outputs": []
    },
    {
      "cell_type": "code",
      "metadata": {
        "colab_type": "code",
        "id": "ElwO7zTdoyM1",
        "colab": {}
      },
      "source": [
        "label = ku.to_categorical(label, num_classes=total_words)"
      ],
      "execution_count": 0,
      "outputs": []
    },
    {
      "cell_type": "markdown",
      "metadata": {
        "colab_type": "text",
        "id": "9pP6XXaUoyM8"
      },
      "source": [
        "## Model building"
      ]
    },
    {
      "cell_type": "code",
      "metadata": {
        "colab_type": "code",
        "id": "7Pnt_WqooyM9",
        "outputId": "06a88022-1381-446d-a014-013bac768dd7",
        "colab": {
          "base_uri": "https://localhost:8080/",
          "height": 370
        }
      },
      "source": [
        "model = Sequential()\n",
        "model.add(Embedding(total_words, 300, input_length=max_sequence_len-1))\n",
        "model.add(Bidirectional(LSTM(200, return_sequences = True)))\n",
        "model.add(Dropout(0.2))\n",
        "model.add(LSTM(100))\n",
        "model.add(Dense(total_words/2, activation='relu', kernel_regularizer=regularizers.l2(0.001)))\n",
        "model.add(Dense(total_words, activation='softmax'))\n",
        "model.compile(loss='categorical_crossentropy', optimizer='adam', metrics=['accuracy'])\n",
        "print(model.summary())"
      ],
      "execution_count": 11,
      "outputs": [
        {
          "output_type": "stream",
          "text": [
            "Model: \"sequential\"\n",
            "_________________________________________________________________\n",
            "Layer (type)                 Output Shape              Param #   \n",
            "=================================================================\n",
            "embedding (Embedding)        (None, 447, 300)          690600    \n",
            "_________________________________________________________________\n",
            "bidirectional (Bidirectional (None, 447, 400)          801600    \n",
            "_________________________________________________________________\n",
            "dropout (Dropout)            (None, 447, 400)          0         \n",
            "_________________________________________________________________\n",
            "lstm_1 (LSTM)                (None, 100)               200400    \n",
            "_________________________________________________________________\n",
            "dense (Dense)                (None, 1151)              116251    \n",
            "_________________________________________________________________\n",
            "dense_1 (Dense)              (None, 2302)              2651904   \n",
            "=================================================================\n",
            "Total params: 4,460,755\n",
            "Trainable params: 4,460,755\n",
            "Non-trainable params: 0\n",
            "_________________________________________________________________\n",
            "None\n"
          ],
          "name": "stdout"
        }
      ]
    },
    {
      "cell_type": "code",
      "metadata": {
        "colab_type": "code",
        "id": "3FPbhHAIoyNA",
        "colab": {}
      },
      "source": [
        "history = model.fit(predictors, label, epochs=200, verbose=0)"
      ],
      "execution_count": 0,
      "outputs": []
    },
    {
      "cell_type": "markdown",
      "metadata": {
        "colab_type": "text",
        "id": "JaQQOONkoyNE"
      },
      "source": [
        "## Graphs"
      ]
    },
    {
      "cell_type": "code",
      "metadata": {
        "colab_type": "code",
        "id": "lVYhxD9toyNE",
        "outputId": "08acc048-2f8d-426a-9404-e28d9c3d4c04",
        "colab": {
          "base_uri": "https://localhost:8080/",
          "height": 545
        }
      },
      "source": [
        "import matplotlib.pyplot as plt\n",
        "acc = history.history['accuracy']\n",
        "loss = history.history['loss']\n",
        "\n",
        "epochs = range(len(acc))\n",
        "\n",
        "plt.plot(epochs, acc, 'b', label='Training accuracy')\n",
        "plt.title('Training accuracy')\n",
        "\n",
        "plt.figure()\n",
        "\n",
        "plt.plot(epochs, loss, 'b', label='Training Loss')\n",
        "plt.title('Training loss')\n",
        "plt.legend()\n",
        "\n",
        "plt.show()"
      ],
      "execution_count": 13,
      "outputs": [
        {
          "output_type": "display_data",
          "data": {
            "image/png": "[encoded data removed]",
            "text/plain": [
              "<Figure size 432x288 with 1 Axes>"
            ]
          },
          "metadata": {
            "tags": [],
            "needs_background": "light"
          }
        },
        {
          "output_type": "display_data",
          "data": {
            "image/png": "[encoded data removed]",
            "text/plain": [
              "<Figure size 432x288 with 1 Axes>"
            ]
          },
          "metadata": {
            "tags": [],
            "needs_background": "light"
          }
        }
      ]
    },
    {
      "cell_type": "markdown",
      "metadata": {
        "colab_type": "text",
        "id": "E630ph7Qb3o0"
      },
      "source": [
        "## Saving the model"
      ]
    },
    {
      "cell_type": "code",
      "metadata": {
        "id": "w-qcADjdDO3R",
        "colab_type": "code",
        "colab": {
          "base_uri": "https://localhost:8080/",
          "height": 34
        },
        "outputId": "35ae53e6-645f-4c73-defb-3a0c10090761"
      },
      "source": [
        "model.save('model_final.h5')\n",
        "print(\"Saved model to disk\")"
      ],
      "execution_count": 14,
      "outputs": [
        {
          "output_type": "stream",
          "text": [
            "Saved model to disk\n"
          ],
          "name": "stdout"
        }
      ]
    },
    {
      "cell_type": "code",
      "metadata": {
        "colab_type": "code",
        "id": "D9Umctz6b29B",
        "outputId": "aa0b08a3-194d-4fda-fac6-80acbe661fd4",
        "colab": {
          "base_uri": "https://localhost:8080/",
          "height": 34
        }
      },
      "source": [
        "# serialize model to JSON\n",
        "model_json=model.to_json()\n",
        "with open(\"model.json\",\"w\") as json_file:\n",
        "  json_file.write(model_json)\n",
        "\n",
        "# serialize weights to HDF5\n",
        "model.save_weights(\"model.h5\")\n",
        "print(\"Saved model to disk\")"
      ],
      "execution_count": 0,
      "outputs": [
        {
          "output_type": "stream",
          "text": [
            "Saved model to disk\n"
          ],
          "name": "stdout"
        }
      ]
    },
    {
      "cell_type": "code",
      "metadata": {
        "id": "A3TwMuzBCc_b",
        "colab_type": "code",
        "colab": {},
        "outputId": "1aadf7f8-ab97-42bf-a9fb-865f0f91bee6"
      },
      "source": [
        "!pip install pickle-mixin"
      ],
      "execution_count": 0,
      "outputs": [
        {
          "output_type": "stream",
          "text": [
            "Collecting pickle-mixin\n",
            "  Downloading pickle-mixin-1.0.2.tar.gz (5.1 kB)\n",
            "Building wheels for collected packages: pickle-mixin\n",
            "  Building wheel for pickle-mixin (setup.py): started\n",
            "  Building wheel for pickle-mixin (setup.py): finished with status 'done'\n",
            "  Created wheel for pickle-mixin: filename=pickle_mixin-1.0.2-py3-none-any.whl size=6002 sha256=a73f463a424d7a9b0957317a0e5f86e0c7ec99f1cc5149838732f0d9bc1c15bc\n",
            "  Stored in directory: c:\\users\\jayashree\\appdata\\local\\pip\\cache\\wheels\\d0\\70\\0b\\673e09a7ed429660d22352a1b117b4f616a8fc054bdd7eb157\n",
            "Successfully built pickle-mixin\n",
            "Installing collected packages: pickle-mixin\n",
            "Successfully installed pickle-mixin-1.0.2\n"
          ],
          "name": "stdout"
        }
      ]
    },
    {
      "cell_type": "code",
      "metadata": {
        "id": "PCjui7-GCc_i",
        "colab_type": "code",
        "colab": {}
      },
      "source": [
        "weigh= loaded_model.get_weights(); \n",
        "pklfile= \"model.pkl\"\n",
        "fpkl= open(pklfile, 'wb')    #Python 3     \n",
        "pickle.dump(weigh, fpkl, protocol= pickle.HIGHEST_PROTOCOL)\n",
        "fpkl.close()"
      ],
      "execution_count": 0,
      "outputs": []
    },
    {
      "cell_type": "markdown",
      "metadata": {
        "colab_type": "text",
        "id": "yD4BF7JLcROO"
      },
      "source": [
        "## Loading the trained model (if required)"
      ]
    },
    {
      "cell_type": "code",
      "metadata": {
        "colab_type": "code",
        "id": "z9ETT7RUcVxi",
        "colab": {}
      },
      "source": [
        "#!pip install h5py"
      ],
      "execution_count": 0,
      "outputs": []
    },
    {
      "cell_type": "code",
      "metadata": {
        "colab_type": "code",
        "id": "KIAPevEUcZ6m",
        "outputId": "c1340b2f-e6fc-4e6d-f29e-8ff591c8c5c3",
        "colab": {
          "base_uri": "https://localhost:8080/",
          "height": 34
        }
      },
      "source": [
        "# Load json and create model\n",
        "json_file=open('model.json','r')\n",
        "loaded_model_json=json_file.read()\n",
        "json_file.close()\n",
        "loaded_model=tf.keras.models.model_from_json(loaded_model_json)\n",
        "\n",
        "# Load weights into new model\n",
        "loaded_model.load_weights(\"model.h5\")\n",
        "print(\"Loaded model from disk\")"
      ],
      "execution_count": 0,
      "outputs": [
        {
          "output_type": "stream",
          "text": [
            "Loaded model from disk\n"
          ],
          "name": "stdout"
        }
      ]
    },
    {
      "cell_type": "code",
      "metadata": {
        "colab_type": "code",
        "id": "zJbJ18aedkun",
        "colab": {}
      },
      "source": [
        "#loaded_model.summary()"
      ],
      "execution_count": 0,
      "outputs": []
    },
    {
      "cell_type": "markdown",
      "metadata": {
        "colab_type": "text",
        "id": "ZmGWM4wLoyNI"
      },
      "source": [
        "## Prediction"
      ]
    },
    {
      "cell_type": "code",
      "metadata": {
        "colab_type": "code",
        "id": "FcGIU4nHoyNI",
        "outputId": "8f0cbc4c-298a-4153-82ff-54c38ccccd33",
        "colab": {
          "base_uri": "https://localhost:8080/",
          "height": 104
        }
      },
      "source": [
        "seed_text = \"As i walked, my heart sank\"\n",
        "next_words = 100\n",
        "  \n",
        "for _ in range(next_words):\n",
        "    token_list = tokenizer.texts_to_sequences([seed_text])[0]\n",
        "    token_list = pad_sequences([token_list], maxlen=max_sequence_len-1, padding='pre')\n",
        "    predicted = model.predict_classes(token_list, verbose=0)\n",
        "    output_word = \"\"\n",
        "    for word, index in tokenizer.word_index.items():\n",
        "        if index == predicted:\n",
        "            output_word = word\n",
        "            break\n",
        "    seed_text += \" \" + output_word\n",
        "print(seed_text)"
      ],
      "execution_count": 16,
      "outputs": [
        {
          "output_type": "stream",
          "text": [
            "WARNING:tensorflow:From <ipython-input-16-d17155727b44>:7: Sequential.predict_classes (from tensorflow.python.keras.engine.sequential) is deprecated and will be removed after 2021-01-01.\n",
            "Instructions for updating:\n",
            "Please use instead:* `np.argmax(model.predict(x), axis=-1)`,   if your model does multi-class classification   (e.g. if it uses a `softmax` last-layer activation).* `(model.predict(x) > 0.5).astype(\"int32\")`,   if your model does binary classification   (e.g. if it uses a `sigmoid` last-layer activation).\n",
            "As i walked, my heart sank until he was alarmed by the voice of the hunter and realised what could have happened with him he flew away the boy crunched before it disguised herself as another effort to pull out the bush which he did the next was a small tree which the child had to struggle a lot to pull out finally the old man showed him a bigger tree and asked the child to pull it out the boy did so with ease and they walked on the morning she was asked how she had slept as a while they came back with me\n"
          ],
          "name": "stdout"
        }
      ]
    },
    {
      "cell_type": "code",
      "metadata": {
        "colab_type": "code",
        "id": "rQjiLmiqlK4-",
        "colab": {}
      },
      "source": [
        ""
      ],
      "execution_count": 0,
      "outputs": []
    }
  ]
}